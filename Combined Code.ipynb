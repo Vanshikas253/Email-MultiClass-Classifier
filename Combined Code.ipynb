{
 "cells": [
  {
   "cell_type": "code",
   "execution_count": 1,
   "metadata": {},
   "outputs": [],
   "source": [
    "import pandas as pd\n",
    "import numpy as np\n",
    "import dateparser\n",
    "import matplotlib.pyplot as plt\n",
    "%matplotlib inline\n",
    "\n",
    "#Help functions for correcting the 'tld' and 'org' columns\n",
    "def get_tld(x):\n",
    "    if type(x) != list:\n",
    "        return np.nan\n",
    "    if x[-1] == 'in' and len(x) == 2 and x[-2] in ['ac', 'co']:\n",
    "        return x[-2] + '.' + 'in'\n",
    "    else:\n",
    "        return x[-1]\n",
    "def get_org(x):\n",
    "    if type(x) != list:\n",
    "        return np.nan\n",
    "    if len(x) == 1:\n",
    "        return np.nan\n",
    "    if x[-1] == 'in' and x[-2] in ['ac', 'co'] and len(x) == 3:\n",
    "        return x[-3]   \n",
    "    if x[-1] == 'in' and x[-2] in ['ac', 'co'] and len(x) == 2:\n",
    "        return np.nan   \n",
    "    return x[-2]"
   ]
  },
  {
   "cell_type": "markdown",
   "metadata": {},
   "source": [
    "# Data Preprocessing"
   ]
  },
  {
   "cell_type": "code",
   "execution_count": 2,
   "metadata": {},
   "outputs": [],
   "source": [
    "#load the original data set\n",
    "df_train = pd.read_csv('train.csv', index_col = 0)\n",
    "df_test = pd.read_csv('test.csv', index_col = 0)"
   ]
  },
  {
   "cell_type": "code",
   "execution_count": null,
   "metadata": {},
   "outputs": [
    {
     "name": "stderr",
     "output_type": "stream",
     "text": [
      "<ipython-input-3-d7e5bda92627>:12: FutureWarning: The default value of regex will change from True to False in a future version.\n",
      "  df_train['date'] = df_train['date'].str.replace(r' \\(.*\\)', '')\n",
      "C:\\Users\\Vanshika Sharma\\anaconda3\\lib\\site-packages\\dateparser\\date_parser.py:35: PytzUsageWarning: The localize method is no longer necessary, as this time zone supports the fold attribute (PEP 495). For more details on migrating to a PEP 495-compliant implementation, see https://pytz-deprecation-shim.readthedocs.io/en/latest/migration.html\n",
      "  date_obj = stz.localize(date_obj)\n"
     ]
    }
   ],
   "source": [
    "#Obtain clean date\n",
    "\n",
    "#1. There are no missing values in the date column, but several formats exist:\n",
    "#(a) Sun, 28 Aug 2016 00:17:44 +0000\n",
    "#(b) 11-MAR-2018 20:40:58\n",
    "#(c) Mon, 8 Apr 2013 09:59:21\n",
    "#(d) 25 Apr 2019 07:13:43 -0400\n",
    "#...\n",
    "#2. There are also incorrect time zones values, '+0580', which I changed to '0530'\n",
    "\n",
    "#cleaning training dataset\n",
    "df_train['date'] = df_train['date'].str.replace(r' \\(.*\\)', '')\n",
    "df_train['date'] = df_train['date'].str.rstrip()\n",
    "df_train['date'] = df_train['date'].str.replace('-0000', '+0000')\n",
    "df_train['date'] = df_train['date'].str.replace('0580', '0530')\n",
    "df_train['date'] = df_train['date'].apply(dateparser.parse, languages=['en'])"
   ]
  },
  {
   "cell_type": "code",
   "execution_count": null,
   "metadata": {},
   "outputs": [
    {
     "name": "stderr",
     "output_type": "stream",
     "text": [
      "<ipython-input-6-7f44fbf518b7>:2: FutureWarning: The default value of regex will change from True to False in a future version.\n",
      "  df_test['date'] = df_test['date'].str.replace(r' \\(.*\\)', '')\n"
     ]
    }
   ],
   "source": [
    "#cleaning test dataset\n",
    "df_test['date'] = df_test['date'].str.replace(r' \\(.*\\)', '')\n",
    "df_test['date'] = df_test['date'].str.rstrip()\n",
    "df_test['date'] = df_test['date'].str.replace('-0000', '+0000')\n",
    "df_test['date'] = df_test['date'].str.replace('0580', '0530')\n",
    "df_test['date'] = df_test['date'].apply(dateparser.parse, languages=['en'])"
   ]
  },
  {
   "cell_type": "code",
   "execution_count": null,
   "metadata": {},
   "outputs": [],
   "source": [
    "#Train Dataset - Generate year, month, day, day of the week, hour, minute, second and timezone from date\n",
    "df_train['year'] = df_train['date'].apply(lambda x:x.year)\n",
    "df_train['month'] = df_train['date'].apply(lambda x:x.month)\n",
    "df_train['day'] = df_train['date'].apply(lambda x:x.day)\n",
    "df_train['hour'] = df_train['date'].apply(lambda x:x.hour)\n",
    "df_train['minute'] = df_train['date'].apply(lambda x:x.minute)\n",
    "df_train['second'] = df_train['date'].apply(lambda x:x.second)\n",
    "df_train['weekday'] = df_train['date'].apply(lambda x:x.weekday())\n",
    "df_train['timezone'] = df_train['date'].apply(lambda x:x.tzname())"
   ]
  },
  {
   "cell_type": "code",
   "execution_count": null,
   "metadata": {},
   "outputs": [],
   "source": [
    "#Test Dataset - Generate year, month, day, day of the week, hour, minute, second and timezone from date\n",
    "df_test['year'] = df_test['date'].apply(lambda x:x.year)\n",
    "df_test['month'] = df_test['date'].apply(lambda x:x.month)\n",
    "df_test['day'] = df_test['date'].apply(lambda x:x.day)\n",
    "df_test['hour'] = df_test['date'].apply(lambda x:x.hour)\n",
    "df_test['minute'] = df_test['date'].apply(lambda x:x.minute)\n",
    "df_test['second'] = df_test['date'].apply(lambda x:x.second)\n",
    "df_test['weekday'] = df_test['date'].apply(lambda x:x.weekday())\n",
    "df_test['timezone'] = df_test['date'].apply(lambda x:x.tzname())"
   ]
  },
  {
   "cell_type": "code",
   "execution_count": null,
   "metadata": {},
   "outputs": [],
   "source": [
    "#Merge all the upper case and lower case mailtype calsses by lowering-case the whole column\n",
    "#e.g. multipart/alternative and Multipart/Alternative\n",
    "df_train['mail_type'] = df_train['mail_type'].str.lower()\n",
    "df_test['mail_type'] = df_test['mail_type'].str.lower()"
   ]
  },
  {
   "cell_type": "code",
   "execution_count": 8,
   "metadata": {},
   "outputs": [],
   "source": [
    "#Save df to train_clean.csv\n",
    "df_train.to_csv('train_clean.csv')\n",
    "df_test.to_csv('test_clean.csv')"
   ]
  },
  {
   "cell_type": "markdown",
   "metadata": {
    "collapsed": true
   },
   "source": [
    "# Feature Engineering"
   ]
  },
  {
   "cell_type": "code",
   "execution_count": 3,
   "metadata": {},
   "outputs": [],
   "source": [
    "#load the clean data set\n",
    "df_train = pd.read_csv('train_clean.csv', index_col = 0)\n",
    "df_test = pd.read_csv('test_clean.csv', index_col = 0)"
   ]
  },
  {
   "cell_type": "code",
   "execution_count": 4,
   "metadata": {
    "scrolled": false
   },
   "outputs": [],
   "source": [
    "#Assumption: if a domain always sends a particular type of emails, then it will always send this type of emails.\n",
    "#Pairs is a table with such pair of orgs and labels\n",
    "\n",
    "df_org_label_count = df_train.groupby(['org', 'label']).count().iloc[:,0]\n",
    "df_org_label_count = df_org_label_count.to_frame().reset_index()\n",
    "pairs = df_org_label_count[df_org_label_count.groupby('org')['org'].transform(len) == 1]\n",
    "pairs.columns = ['org', 'label', 'count']\n",
    "pairs = dict(zip(pairs['org'], pairs['label']))"
   ]
  },
  {
   "cell_type": "code",
   "execution_count": 5,
   "metadata": {},
   "outputs": [],
   "source": [
    "#Holiday list\n",
    "\n",
    "from pandas.tseries.holiday import USFederalHolidayCalendar as calendar\n",
    "cal = calendar()\n",
    "holidays = cal.holidays()\n",
    "holidays = [x.strftime(\"%Y-%m-%d\") for x in holidays]"
   ]
  },
  {
   "cell_type": "code",
   "execution_count": 6,
   "metadata": {},
   "outputs": [
    {
     "data": {
      "text/plain": [
       "{'0adz': 1,\n",
       " '10xrecruit': 1,\n",
       " '163': 1,\n",
       " '2018': 1,\n",
       " '2checkout': 0,\n",
       " '3ds': 1,\n",
       " '60': 0,\n",
       " '86282': 1,\n",
       " 'HobbyKing': 0,\n",
       " 'L3Harris': 1,\n",
       " 'MakeMyTrip': 0,\n",
       " 'Neo4j': 0,\n",
       " 'Pennmedicine': 1,\n",
       " 'aaai': 0,\n",
       " 'acces-neovote': 0,\n",
       " 'aciek-academy': 0,\n",
       " 'acsir': 1,\n",
       " 'addmi': 0,\n",
       " 'adh-assurances': 0,\n",
       " 'adm': 1,\n",
       " 'adobe': 1,\n",
       " 'af3': 1,\n",
       " 'afwerxfusion': 3,\n",
       " 'agencenavigoannuel': 0,\n",
       " 'airindia': 0,\n",
       " 'airtel': 0,\n",
       " 'alchemyapi': 1,\n",
       " 'am': 1,\n",
       " 'amdocs': 1,\n",
       " 'ameli': 0,\n",
       " 'andromedapublisher': 1,\n",
       " 'animalvetsci': 1,\n",
       " 'aoni': 1,\n",
       " 'app': 0,\n",
       " 'arrow': 7,\n",
       " 'aryaemailer': 2,\n",
       " 'aspiringmail': 0,\n",
       " 'awidit': 1,\n",
       " 'bizee': 3,\n",
       " 'bluedart': 1,\n",
       " 'bluelighthost': 1,\n",
       " 'bpest-dijon': 2,\n",
       " 'brain': 1,\n",
       " 'bsnl': 1,\n",
       " 'buffalo': 2,\n",
       " 'buyforexonline': 0,\n",
       " 'cancerimagingarchive': 1,\n",
       " 'capellaspace': 1,\n",
       " 'careerfolio': 1,\n",
       " 'carwale': 0,\n",
       " 'cdconnect': 2,\n",
       " 'centrepompidou': 2,\n",
       " 'ciudad': 1,\n",
       " 'class': 0,\n",
       " 'clerky': 0,\n",
       " 'cloudbees': 2,\n",
       " 'cloudlinux': 1,\n",
       " 'cmrjournal': 1,\n",
       " 'cnvs': 1,\n",
       " 'com-lpfr': 2,\n",
       " 'comet-mail': 2,\n",
       " 'compbuzz': 1,\n",
       " 'computer': 2,\n",
       " 'connectedphotos': 0,\n",
       " 'consumer-live': 0,\n",
       " 'contact': 2,\n",
       " 'contact-adh-assurances': 2,\n",
       " 'crimson': 1,\n",
       " 'critical': 1,\n",
       " 'crowdcast': 0,\n",
       " 'crowdfightcovid19': 0,\n",
       " 'cse': 1,\n",
       " 'csphclrectt14': 1,\n",
       " 'ddunationalseminarsc': 1,\n",
       " 'developers': 2,\n",
       " 'dfxinfo': 0,\n",
       " 'dgfip': 0,\n",
       " 'dhruvkumarjha': 3,\n",
       " 'digitalglobe': 1,\n",
       " 'diplomatie': 1,\n",
       " 'directvote': 0,\n",
       " 'diu': 1,\n",
       " 'divx-newsletters': 1,\n",
       " 'drivendata': 0,\n",
       " 'dtu': 1,\n",
       " 'dvc': 0,\n",
       " 'economictimes': 0,\n",
       " 'edc': 0,\n",
       " 'ee': 1,\n",
       " 'eesmail': 0,\n",
       " 'elastichosts': 1,\n",
       " 'elitmus': 1,\n",
       " 'elsevier': 0,\n",
       " 'elsevierhealth': 0,\n",
       " 'email-support': 0,\n",
       " 'email1': 1,\n",
       " 'eng': 1,\n",
       " 'epfl': 1,\n",
       " 'epic': 1,\n",
       " 'epoch': 1,\n",
       " 'eservices-laposte': 0,\n",
       " 'ettus': 1,\n",
       " 'evelynlearning': 1,\n",
       " 'expertrating': 1,\n",
       " 'express': 0,\n",
       " 'external': 0,\n",
       " 'f-career': 1,\n",
       " 'factset': 1,\n",
       " 'flexy': 0,\n",
       " 'flickr': 1,\n",
       " 'fortinet': 0,\n",
       " 'fotor': 1,\n",
       " 'foxmail': 2,\n",
       " 'franceconnect': 0,\n",
       " 'freedns': 1,\n",
       " 'freepik-mail': 2,\n",
       " 'fsmp': 1,\n",
       " 'fun-campus': 0,\n",
       " 'geniecabs': 1,\n",
       " 'getflow': 2,\n",
       " 'globalfashion': 1,\n",
       " 'globalhealth5050': 1,\n",
       " 'googlemail': 1,\n",
       " 'govivace': 1,\n",
       " 'gr31': 6,\n",
       " 'graymatics': 1,\n",
       " 'groupiop': 0,\n",
       " 'gskpurchase': 1,\n",
       " 'guide2research': 0,\n",
       " 'happnmail': 0,\n",
       " 'hasteroc': 0,\n",
       " 'healthie': 2,\n",
       " 'hknu': 1,\n",
       " 'holidayiq': 0,\n",
       " 'horosproject': 2,\n",
       " 'hulumail': 0,\n",
       " 'hybridwares': 1,\n",
       " 'i': 1,\n",
       " 'iadvize': 0,\n",
       " 'ibest': 1,\n",
       " 'icicilombard': 2,\n",
       " 'icloud': 1,\n",
       " 'ieeer8': 0,\n",
       " 'ifpen': 1,\n",
       " 'ig': 1,\n",
       " 'iheartdogs': 0,\n",
       " 'iitd': 1,\n",
       " 'iith': 1,\n",
       " 'iitj': 1,\n",
       " 'iitkgp': 1,\n",
       " 'ijotam': 1,\n",
       " 'image-net': 1,\n",
       " 'imagekit': 1,\n",
       " 'impetus': 1,\n",
       " 'indeedemail': 1,\n",
       " 'indianoil': 1,\n",
       " 'indigo-trends': 2,\n",
       " 'internationaldriversassociation': 0,\n",
       " 'is': 1,\n",
       " 'isi': 1,\n",
       " 'ivcmr': 0,\n",
       " 'ixigo': 0,\n",
       " 'jadavpuruniversity': 1,\n",
       " 'jiit': 1,\n",
       " 'justdial': 1,\n",
       " 'kdc9otdk91qkqg': 6,\n",
       " 'klm': 0,\n",
       " 'l2s': 1,\n",
       " 'landing': 2,\n",
       " 'learnml': 0,\n",
       " 'legal': 1,\n",
       " 'libero': 1,\n",
       " 'libre': 1,\n",
       " 'lirmm': 1,\n",
       " 'live': 1,\n",
       " 'localhost': 1,\n",
       " 'longcapture': 1,\n",
       " 'magnemit': 2,\n",
       " 'mail1': 0,\n",
       " 'mailclues': 1,\n",
       " 'mansys': 3,\n",
       " 'maruti': 1,\n",
       " 'mb': 2,\n",
       " 'mea': 0,\n",
       " 'mech': 1,\n",
       " 'meeshkan': 0,\n",
       " 'mellonlabs': 1,\n",
       " 'members': 1,\n",
       " 'metaspectral': 3,\n",
       " 'miro': 0,\n",
       " 'mit': 1,\n",
       " 'mixmax': 1,\n",
       " 'mobikwik': 0,\n",
       " 'mpi-klsb': 1,\n",
       " 'naaptoldealz': 2,\n",
       " 'namomail': 0,\n",
       " 'naukri': 1,\n",
       " 'nist': 1,\n",
       " 'nitkkr': 1,\n",
       " 'nitrr': 1,\n",
       " 'nobrokerletters': 2,\n",
       " 'noip': 1,\n",
       " 'non': 1,\n",
       " 'nordaccount': 0,\n",
       " 'notification': 0,\n",
       " 'notify': 0,\n",
       " 'nsit': 1,\n",
       " 'nyu': 1,\n",
       " 'oregonstate': 1,\n",
       " 'outlook': 1,\n",
       " 'owkin': 1,\n",
       " 'pagarba': 3,\n",
       " 'panasonic': 0,\n",
       " 'pathable': 0,\n",
       " 'paytmoffers': 0,\n",
       " 'pearson': 1,\n",
       " 'pennmedicine': 1,\n",
       " 'pesquet': 1,\n",
       " 'pitchme': 0,\n",
       " 'plot': 0,\n",
       " 'polimi': 1,\n",
       " 'pophealth': 1,\n",
       " 'preferred': 1,\n",
       " 'promo': 2,\n",
       " 'proto': 2,\n",
       " 'public': 1,\n",
       " 'pypi': 0,\n",
       " 'quikreasyinfo': 0,\n",
       " 'quorg': 1,\n",
       " 'rchobbyaddict': 0,\n",
       " 'readlang': 0,\n",
       " 'rechargercommandernavigo': 0,\n",
       " 'recruitment': 0,\n",
       " 'redditmail': 0,\n",
       " 'redhat': 0,\n",
       " 'remisesetreductions': 0,\n",
       " 'remotemore': 0,\n",
       " 'reply1': 1,\n",
       " 'research': 1,\n",
       " 'revolut': 0,\n",
       " 'robots': 1,\n",
       " 'rootwork': 1,\n",
       " 'saavnletters': 1,\n",
       " 'saiconference': 0,\n",
       " 'schneider-electric': 1,\n",
       " 'science-accueil': 1,\n",
       " 'scitevents': 0,\n",
       " 'sdl': 1,\n",
       " 'se': 1,\n",
       " 'server40': 1,\n",
       " 'sg2plcpnl0071': 0,\n",
       " 'shakeshack': 2,\n",
       " 'sketchup': 2,\n",
       " 'skillpagesmail': 1,\n",
       " 'socgen': 0,\n",
       " 'softzen': 1,\n",
       " 'speed': 1,\n",
       " 'staqu': 1,\n",
       " 'stockroom': 1,\n",
       " 'stripe': 0,\n",
       " 'studiosport': 0,\n",
       " 'stylusstudio': 1,\n",
       " 'support': 1,\n",
       " 'susestudio': 1,\n",
       " 'synlab': 0,\n",
       " 'synthia-dataset': 1,\n",
       " 'tagx': 3,\n",
       " 'takamul': 1,\n",
       " 'tapchief': 1,\n",
       " 'teabox': 1,\n",
       " 'techaffinity': 1,\n",
       " 'techject': 0,\n",
       " 'technoidentity': 1,\n",
       " 'techstars': 1,\n",
       " 'techstarsassociates': 1,\n",
       " 'telecom-sudparis': 1,\n",
       " 'tenettech': 1,\n",
       " 'thehobbyshop': 1,\n",
       " 'thinkdigit': 1,\n",
       " 'thomas-earnshaw': 2,\n",
       " 'todoist': 0,\n",
       " 'toluna': 0,\n",
       " 'transferwise': 0,\n",
       " 'trends-temple': 2,\n",
       " 'trigger': 1,\n",
       " 'truelancr': 1,\n",
       " 'trustpilotmail': 0,\n",
       " 'tti-network': 1,\n",
       " 'tum': 1,\n",
       " 'tutorco': 1,\n",
       " 'ubuntu': 1,\n",
       " 'ucl': 1,\n",
       " 'uir': 1,\n",
       " 'um': 1,\n",
       " 'univ-mlv': 1,\n",
       " 'universitadipavia': 1,\n",
       " 'urekascience': 1,\n",
       " 'usc': 1,\n",
       " 'ustraveldocs': 0,\n",
       " 'uva': 1,\n",
       " 'videoken': 1,\n",
       " 'vip': 3,\n",
       " 'virtualtaboo': 1,\n",
       " 'visme': 2,\n",
       " 'votenet': 0,\n",
       " 'vrporn': 1,\n",
       " 'welcome': 0,\n",
       " 'wellesley': 1,\n",
       " 'westnet': 1,\n",
       " 'wifirst': 0,\n",
       " 'wipro': 1,\n",
       " 'wisdomjobs': 0,\n",
       " 'wish': 2,\n",
       " 'wit': 0,\n",
       " 'wix': 0,\n",
       " 'worldbank': 1,\n",
       " 'worldsim': 1,\n",
       " 'xecutehr': 1,\n",
       " 'xrce': 1,\n",
       " 'yandex': 3,\n",
       " 'ymail': 1,\n",
       " 'zamzar': 1,\n",
       " 'zen2-makemytrip': 0,\n",
       " 'zenysis': 1,\n",
       " 'zettaset': 3,\n",
       " 'zoomcybersense': 0,\n",
       " 'zurich': 1}"
      ]
     },
     "execution_count": 6,
     "metadata": {},
     "output_type": "execute_result"
    }
   ],
   "source": [
    "pairs"
   ]
  },
  {
   "cell_type": "markdown",
   "metadata": {},
   "source": [
    "# PCA"
   ]
  },
  {
   "cell_type": "code",
   "execution_count": 7,
   "metadata": {},
   "outputs": [
    {
     "data": {
      "text/html": [
       "<div>\n",
       "<style scoped>\n",
       "    .dataframe tbody tr th:only-of-type {\n",
       "        vertical-align: middle;\n",
       "    }\n",
       "\n",
       "    .dataframe tbody tr th {\n",
       "        vertical-align: top;\n",
       "    }\n",
       "\n",
       "    .dataframe thead th {\n",
       "        text-align: right;\n",
       "    }\n",
       "</style>\n",
       "<table border=\"1\" class=\"dataframe\">\n",
       "  <thead>\n",
       "    <tr style=\"text-align: right;\">\n",
       "      <th></th>\n",
       "      <th>date</th>\n",
       "      <th>org</th>\n",
       "      <th>tld</th>\n",
       "      <th>ccs</th>\n",
       "      <th>bcced</th>\n",
       "      <th>mail_type</th>\n",
       "      <th>images</th>\n",
       "      <th>urls</th>\n",
       "      <th>salutations</th>\n",
       "      <th>designation</th>\n",
       "      <th>...</th>\n",
       "      <th>chars_in_body</th>\n",
       "      <th>label</th>\n",
       "      <th>year</th>\n",
       "      <th>month</th>\n",
       "      <th>day</th>\n",
       "      <th>hour</th>\n",
       "      <th>minute</th>\n",
       "      <th>second</th>\n",
       "      <th>weekday</th>\n",
       "      <th>timezone</th>\n",
       "    </tr>\n",
       "  </thead>\n",
       "  <tbody>\n",
       "    <tr>\n",
       "      <th>0</th>\n",
       "      <td>2017-11-06 11:13:45+01:00</td>\n",
       "      <td>reply</td>\n",
       "      <td>ebay.in</td>\n",
       "      <td>0</td>\n",
       "      <td>0</td>\n",
       "      <td>multipart/alternative</td>\n",
       "      <td>35</td>\n",
       "      <td>120</td>\n",
       "      <td>0</td>\n",
       "      <td>0</td>\n",
       "      <td>...</td>\n",
       "      <td>80027</td>\n",
       "      <td>2</td>\n",
       "      <td>2017</td>\n",
       "      <td>11</td>\n",
       "      <td>6</td>\n",
       "      <td>11</td>\n",
       "      <td>13</td>\n",
       "      <td>45</td>\n",
       "      <td>0</td>\n",
       "      <td>UTC\\+01:00</td>\n",
       "    </tr>\n",
       "    <tr>\n",
       "      <th>1</th>\n",
       "      <td>2018-02-14 11:00:16+00:00</td>\n",
       "      <td>edm</td>\n",
       "      <td>efinmail.com</td>\n",
       "      <td>0</td>\n",
       "      <td>0</td>\n",
       "      <td>multipart/alternative</td>\n",
       "      <td>1</td>\n",
       "      <td>7</td>\n",
       "      <td>0</td>\n",
       "      <td>0</td>\n",
       "      <td>...</td>\n",
       "      <td>2961</td>\n",
       "      <td>1</td>\n",
       "      <td>2018</td>\n",
       "      <td>2</td>\n",
       "      <td>14</td>\n",
       "      <td>11</td>\n",
       "      <td>0</td>\n",
       "      <td>16</td>\n",
       "      <td>2</td>\n",
       "      <td>UTC\\+00:00</td>\n",
       "    </tr>\n",
       "    <tr>\n",
       "      <th>2</th>\n",
       "      <td>2016-07-06 19:53:37+00:00</td>\n",
       "      <td>usebackpack</td>\n",
       "      <td>com</td>\n",
       "      <td>0</td>\n",
       "      <td>0</td>\n",
       "      <td>text/html</td>\n",
       "      <td>4</td>\n",
       "      <td>17</td>\n",
       "      <td>0</td>\n",
       "      <td>0</td>\n",
       "      <td>...</td>\n",
       "      <td>25149</td>\n",
       "      <td>1</td>\n",
       "      <td>2016</td>\n",
       "      <td>7</td>\n",
       "      <td>6</td>\n",
       "      <td>19</td>\n",
       "      <td>53</td>\n",
       "      <td>37</td>\n",
       "      <td>2</td>\n",
       "      <td>UTC\\+00:00</td>\n",
       "    </tr>\n",
       "    <tr>\n",
       "      <th>3</th>\n",
       "      <td>2019-10-11 11:25:40+02:00</td>\n",
       "      <td>granular</td>\n",
       "      <td>ai</td>\n",
       "      <td>0</td>\n",
       "      <td>0</td>\n",
       "      <td>multipart/mixed</td>\n",
       "      <td>0</td>\n",
       "      <td>0</td>\n",
       "      <td>0</td>\n",
       "      <td>0</td>\n",
       "      <td>...</td>\n",
       "      <td>635296</td>\n",
       "      <td>1</td>\n",
       "      <td>2019</td>\n",
       "      <td>10</td>\n",
       "      <td>11</td>\n",
       "      <td>11</td>\n",
       "      <td>25</td>\n",
       "      <td>40</td>\n",
       "      <td>4</td>\n",
       "      <td>UTC\\+02:00</td>\n",
       "    </tr>\n",
       "    <tr>\n",
       "      <th>4</th>\n",
       "      <td>2017-11-07 11:07:18+00:00</td>\n",
       "      <td>github</td>\n",
       "      <td>com</td>\n",
       "      <td>1</td>\n",
       "      <td>0</td>\n",
       "      <td>multipart/alternative</td>\n",
       "      <td>2</td>\n",
       "      <td>11</td>\n",
       "      <td>0</td>\n",
       "      <td>0</td>\n",
       "      <td>...</td>\n",
       "      <td>2355</td>\n",
       "      <td>1</td>\n",
       "      <td>2017</td>\n",
       "      <td>11</td>\n",
       "      <td>7</td>\n",
       "      <td>11</td>\n",
       "      <td>7</td>\n",
       "      <td>18</td>\n",
       "      <td>1</td>\n",
       "      <td>UTC\\+00:00</td>\n",
       "    </tr>\n",
       "  </tbody>\n",
       "</table>\n",
       "<p>5 rows × 21 columns</p>\n",
       "</div>"
      ],
      "text/plain": [
       "                        date          org           tld  ccs  bcced  \\\n",
       "0  2017-11-06 11:13:45+01:00        reply       ebay.in    0      0   \n",
       "1  2018-02-14 11:00:16+00:00          edm  efinmail.com    0      0   \n",
       "2  2016-07-06 19:53:37+00:00  usebackpack           com    0      0   \n",
       "3  2019-10-11 11:25:40+02:00     granular            ai    0      0   \n",
       "4  2017-11-07 11:07:18+00:00       github           com    1      0   \n",
       "\n",
       "               mail_type  images  urls  salutations  designation  ...  \\\n",
       "0  multipart/alternative      35   120            0            0  ...   \n",
       "1  multipart/alternative       1     7            0            0  ...   \n",
       "2              text/html       4    17            0            0  ...   \n",
       "3        multipart/mixed       0     0            0            0  ...   \n",
       "4  multipart/alternative       2    11            0            0  ...   \n",
       "\n",
       "   chars_in_body  label  year  month  day  hour  minute  second  weekday  \\\n",
       "0          80027      2  2017     11    6    11      13      45        0   \n",
       "1           2961      1  2018      2   14    11       0      16        2   \n",
       "2          25149      1  2016      7    6    19      53      37        2   \n",
       "3         635296      1  2019     10   11    11      25      40        4   \n",
       "4           2355      1  2017     11    7    11       7      18        1   \n",
       "\n",
       "     timezone  \n",
       "0  UTC\\+01:00  \n",
       "1  UTC\\+00:00  \n",
       "2  UTC\\+00:00  \n",
       "3  UTC\\+02:00  \n",
       "4  UTC\\+00:00  \n",
       "\n",
       "[5 rows x 21 columns]"
      ]
     },
     "execution_count": 7,
     "metadata": {},
     "output_type": "execute_result"
    }
   ],
   "source": [
    "df_train.head()"
   ]
  },
  {
   "cell_type": "code",
   "execution_count": 16,
   "metadata": {},
   "outputs": [],
   "source": [
    "df_train.drop('date', axis = 1, inplace = True)\n",
    "df_test.drop('date', axis = 1, inplace = True)"
   ]
  },
  {
   "cell_type": "code",
   "execution_count": 9,
   "metadata": {},
   "outputs": [],
   "source": [
    "#hot encoding columns\n",
    "def onehot(df):\n",
    "    \n",
    "    # This function will perform one hot coding for org, tld, mail_type, timezone columsn.\n",
    "    \n",
    "    one_hot = pd.get_dummies(df[['org', 'tld', 'mail_type', 'timezone']])\n",
    "\n",
    "    \n",
    "    # Now we drop the original categorical column to avoid duplicacy. \n",
    "    df.drop('org', axis=1, inplace=True)\n",
    "    df.drop('tld', axis=1, inplace=True)\n",
    "    df.drop('mail_type', axis=1, inplace=True)\n",
    "    df.drop('timezone', axis=1, inplace=True)\n",
    "    \n",
    "    df = df.join(one_hot)\n",
    "    return df"
   ]
  },
  {
   "cell_type": "code",
   "execution_count": 10,
   "metadata": {},
   "outputs": [
    {
     "data": {
      "text/html": [
       "<div>\n",
       "<style scoped>\n",
       "    .dataframe tbody tr th:only-of-type {\n",
       "        vertical-align: middle;\n",
       "    }\n",
       "\n",
       "    .dataframe tbody tr th {\n",
       "        vertical-align: top;\n",
       "    }\n",
       "\n",
       "    .dataframe thead th {\n",
       "        text-align: right;\n",
       "    }\n",
       "</style>\n",
       "<table border=\"1\" class=\"dataframe\">\n",
       "  <thead>\n",
       "    <tr style=\"text-align: right;\">\n",
       "      <th></th>\n",
       "      <th>date</th>\n",
       "      <th>ccs</th>\n",
       "      <th>bcced</th>\n",
       "      <th>images</th>\n",
       "      <th>urls</th>\n",
       "      <th>salutations</th>\n",
       "      <th>designation</th>\n",
       "      <th>chars_in_subject</th>\n",
       "      <th>chars_in_body</th>\n",
       "      <th>year</th>\n",
       "      <th>...</th>\n",
       "      <th>timezone_UTC\\+07:00</th>\n",
       "      <th>timezone_UTC\\+08:00</th>\n",
       "      <th>timezone_UTC\\+09:00</th>\n",
       "      <th>timezone_UTC\\+10:00</th>\n",
       "      <th>timezone_UTC\\+11:00</th>\n",
       "      <th>timezone_UTC\\-04:00</th>\n",
       "      <th>timezone_UTC\\-05:00</th>\n",
       "      <th>timezone_UTC\\-06:00</th>\n",
       "      <th>timezone_UTC\\-07:00</th>\n",
       "      <th>timezone_UTC\\-08:00</th>\n",
       "    </tr>\n",
       "  </thead>\n",
       "  <tbody>\n",
       "    <tr>\n",
       "      <th>0</th>\n",
       "      <td>2017-11-01 15:51:21+05:30</td>\n",
       "      <td>0</td>\n",
       "      <td>0</td>\n",
       "      <td>0</td>\n",
       "      <td>12</td>\n",
       "      <td>1</td>\n",
       "      <td>0</td>\n",
       "      <td>20.0</td>\n",
       "      <td>4505</td>\n",
       "      <td>2017</td>\n",
       "      <td>...</td>\n",
       "      <td>0</td>\n",
       "      <td>0</td>\n",
       "      <td>0</td>\n",
       "      <td>0</td>\n",
       "      <td>0</td>\n",
       "      <td>0</td>\n",
       "      <td>0</td>\n",
       "      <td>0</td>\n",
       "      <td>0</td>\n",
       "      <td>0</td>\n",
       "    </tr>\n",
       "    <tr>\n",
       "      <th>1</th>\n",
       "      <td>2015-03-05 20:47:22-05:00</td>\n",
       "      <td>0</td>\n",
       "      <td>0</td>\n",
       "      <td>7</td>\n",
       "      <td>49</td>\n",
       "      <td>1</td>\n",
       "      <td>0</td>\n",
       "      <td>49.0</td>\n",
       "      <td>32949</td>\n",
       "      <td>2015</td>\n",
       "      <td>...</td>\n",
       "      <td>0</td>\n",
       "      <td>0</td>\n",
       "      <td>0</td>\n",
       "      <td>0</td>\n",
       "      <td>0</td>\n",
       "      <td>0</td>\n",
       "      <td>1</td>\n",
       "      <td>0</td>\n",
       "      <td>0</td>\n",
       "      <td>0</td>\n",
       "    </tr>\n",
       "    <tr>\n",
       "      <th>2</th>\n",
       "      <td>2016-04-21 14:53:08+05:30</td>\n",
       "      <td>1</td>\n",
       "      <td>0</td>\n",
       "      <td>0</td>\n",
       "      <td>0</td>\n",
       "      <td>1</td>\n",
       "      <td>0</td>\n",
       "      <td>24.0</td>\n",
       "      <td>1707</td>\n",
       "      <td>2016</td>\n",
       "      <td>...</td>\n",
       "      <td>0</td>\n",
       "      <td>0</td>\n",
       "      <td>0</td>\n",
       "      <td>0</td>\n",
       "      <td>0</td>\n",
       "      <td>0</td>\n",
       "      <td>0</td>\n",
       "      <td>0</td>\n",
       "      <td>0</td>\n",
       "      <td>0</td>\n",
       "    </tr>\n",
       "    <tr>\n",
       "      <th>3</th>\n",
       "      <td>2018-02-06 12:12:08+00:00</td>\n",
       "      <td>0</td>\n",
       "      <td>0</td>\n",
       "      <td>13</td>\n",
       "      <td>50</td>\n",
       "      <td>1</td>\n",
       "      <td>0</td>\n",
       "      <td>70.0</td>\n",
       "      <td>76686</td>\n",
       "      <td>2018</td>\n",
       "      <td>...</td>\n",
       "      <td>0</td>\n",
       "      <td>0</td>\n",
       "      <td>0</td>\n",
       "      <td>0</td>\n",
       "      <td>0</td>\n",
       "      <td>0</td>\n",
       "      <td>0</td>\n",
       "      <td>0</td>\n",
       "      <td>0</td>\n",
       "      <td>0</td>\n",
       "    </tr>\n",
       "    <tr>\n",
       "      <th>4</th>\n",
       "      <td>2019-05-21 05:56:27-07:00</td>\n",
       "      <td>0</td>\n",
       "      <td>0</td>\n",
       "      <td>18</td>\n",
       "      <td>76</td>\n",
       "      <td>1</td>\n",
       "      <td>0</td>\n",
       "      <td>38.0</td>\n",
       "      <td>22646</td>\n",
       "      <td>2019</td>\n",
       "      <td>...</td>\n",
       "      <td>0</td>\n",
       "      <td>0</td>\n",
       "      <td>0</td>\n",
       "      <td>0</td>\n",
       "      <td>0</td>\n",
       "      <td>0</td>\n",
       "      <td>0</td>\n",
       "      <td>0</td>\n",
       "      <td>1</td>\n",
       "      <td>0</td>\n",
       "    </tr>\n",
       "    <tr>\n",
       "      <th>...</th>\n",
       "      <td>...</td>\n",
       "      <td>...</td>\n",
       "      <td>...</td>\n",
       "      <td>...</td>\n",
       "      <td>...</td>\n",
       "      <td>...</td>\n",
       "      <td>...</td>\n",
       "      <td>...</td>\n",
       "      <td>...</td>\n",
       "      <td>...</td>\n",
       "      <td>...</td>\n",
       "      <td>...</td>\n",
       "      <td>...</td>\n",
       "      <td>...</td>\n",
       "      <td>...</td>\n",
       "      <td>...</td>\n",
       "      <td>...</td>\n",
       "      <td>...</td>\n",
       "      <td>...</td>\n",
       "      <td>...</td>\n",
       "      <td>...</td>\n",
       "    </tr>\n",
       "    <tr>\n",
       "      <th>34360</th>\n",
       "      <td>2016-09-19 19:46:53-07:00</td>\n",
       "      <td>0</td>\n",
       "      <td>0</td>\n",
       "      <td>8</td>\n",
       "      <td>110</td>\n",
       "      <td>1</td>\n",
       "      <td>1</td>\n",
       "      <td>134.0</td>\n",
       "      <td>89070</td>\n",
       "      <td>2016</td>\n",
       "      <td>...</td>\n",
       "      <td>0</td>\n",
       "      <td>0</td>\n",
       "      <td>0</td>\n",
       "      <td>0</td>\n",
       "      <td>0</td>\n",
       "      <td>0</td>\n",
       "      <td>0</td>\n",
       "      <td>0</td>\n",
       "      <td>1</td>\n",
       "      <td>0</td>\n",
       "    </tr>\n",
       "    <tr>\n",
       "      <th>34361</th>\n",
       "      <td>2016-08-19 06:05:47+00:00</td>\n",
       "      <td>0</td>\n",
       "      <td>0</td>\n",
       "      <td>23</td>\n",
       "      <td>117</td>\n",
       "      <td>1</td>\n",
       "      <td>0</td>\n",
       "      <td>52.0</td>\n",
       "      <td>24241</td>\n",
       "      <td>2016</td>\n",
       "      <td>...</td>\n",
       "      <td>0</td>\n",
       "      <td>0</td>\n",
       "      <td>0</td>\n",
       "      <td>0</td>\n",
       "      <td>0</td>\n",
       "      <td>0</td>\n",
       "      <td>0</td>\n",
       "      <td>0</td>\n",
       "      <td>0</td>\n",
       "      <td>0</td>\n",
       "    </tr>\n",
       "    <tr>\n",
       "      <th>34362</th>\n",
       "      <td>2016-05-04 17:06:24+05:30</td>\n",
       "      <td>0</td>\n",
       "      <td>0</td>\n",
       "      <td>1</td>\n",
       "      <td>4</td>\n",
       "      <td>1</td>\n",
       "      <td>0</td>\n",
       "      <td>35.0</td>\n",
       "      <td>4558</td>\n",
       "      <td>2016</td>\n",
       "      <td>...</td>\n",
       "      <td>0</td>\n",
       "      <td>0</td>\n",
       "      <td>0</td>\n",
       "      <td>0</td>\n",
       "      <td>0</td>\n",
       "      <td>0</td>\n",
       "      <td>0</td>\n",
       "      <td>0</td>\n",
       "      <td>0</td>\n",
       "      <td>0</td>\n",
       "    </tr>\n",
       "    <tr>\n",
       "      <th>34363</th>\n",
       "      <td>2014-12-29 14:35:52+05:30</td>\n",
       "      <td>0</td>\n",
       "      <td>0</td>\n",
       "      <td>0</td>\n",
       "      <td>6</td>\n",
       "      <td>1</td>\n",
       "      <td>0</td>\n",
       "      <td>38.0</td>\n",
       "      <td>2591</td>\n",
       "      <td>2014</td>\n",
       "      <td>...</td>\n",
       "      <td>0</td>\n",
       "      <td>0</td>\n",
       "      <td>0</td>\n",
       "      <td>0</td>\n",
       "      <td>0</td>\n",
       "      <td>0</td>\n",
       "      <td>0</td>\n",
       "      <td>0</td>\n",
       "      <td>0</td>\n",
       "      <td>0</td>\n",
       "    </tr>\n",
       "    <tr>\n",
       "      <th>34364</th>\n",
       "      <td>2017-03-19 06:16:53+00:00</td>\n",
       "      <td>0</td>\n",
       "      <td>0</td>\n",
       "      <td>23</td>\n",
       "      <td>118</td>\n",
       "      <td>0</td>\n",
       "      <td>0</td>\n",
       "      <td>103.0</td>\n",
       "      <td>23251</td>\n",
       "      <td>2017</td>\n",
       "      <td>...</td>\n",
       "      <td>0</td>\n",
       "      <td>0</td>\n",
       "      <td>0</td>\n",
       "      <td>0</td>\n",
       "      <td>0</td>\n",
       "      <td>0</td>\n",
       "      <td>0</td>\n",
       "      <td>0</td>\n",
       "      <td>0</td>\n",
       "      <td>0</td>\n",
       "    </tr>\n",
       "  </tbody>\n",
       "</table>\n",
       "<p>34365 rows × 1149 columns</p>\n",
       "</div>"
      ],
      "text/plain": [
       "                            date  ccs  bcced  images  urls  salutations  \\\n",
       "0      2017-11-01 15:51:21+05:30    0      0       0    12            1   \n",
       "1      2015-03-05 20:47:22-05:00    0      0       7    49            1   \n",
       "2      2016-04-21 14:53:08+05:30    1      0       0     0            1   \n",
       "3      2018-02-06 12:12:08+00:00    0      0      13    50            1   \n",
       "4      2019-05-21 05:56:27-07:00    0      0      18    76            1   \n",
       "...                          ...  ...    ...     ...   ...          ...   \n",
       "34360  2016-09-19 19:46:53-07:00    0      0       8   110            1   \n",
       "34361  2016-08-19 06:05:47+00:00    0      0      23   117            1   \n",
       "34362  2016-05-04 17:06:24+05:30    0      0       1     4            1   \n",
       "34363  2014-12-29 14:35:52+05:30    0      0       0     6            1   \n",
       "34364  2017-03-19 06:16:53+00:00    0      0      23   118            0   \n",
       "\n",
       "       designation  chars_in_subject  chars_in_body  year  ...  \\\n",
       "0                0              20.0           4505  2017  ...   \n",
       "1                0              49.0          32949  2015  ...   \n",
       "2                0              24.0           1707  2016  ...   \n",
       "3                0              70.0          76686  2018  ...   \n",
       "4                0              38.0          22646  2019  ...   \n",
       "...            ...               ...            ...   ...  ...   \n",
       "34360            1             134.0          89070  2016  ...   \n",
       "34361            0              52.0          24241  2016  ...   \n",
       "34362            0              35.0           4558  2016  ...   \n",
       "34363            0              38.0           2591  2014  ...   \n",
       "34364            0             103.0          23251  2017  ...   \n",
       "\n",
       "       timezone_UTC\\+07:00  timezone_UTC\\+08:00  timezone_UTC\\+09:00  \\\n",
       "0                        0                    0                    0   \n",
       "1                        0                    0                    0   \n",
       "2                        0                    0                    0   \n",
       "3                        0                    0                    0   \n",
       "4                        0                    0                    0   \n",
       "...                    ...                  ...                  ...   \n",
       "34360                    0                    0                    0   \n",
       "34361                    0                    0                    0   \n",
       "34362                    0                    0                    0   \n",
       "34363                    0                    0                    0   \n",
       "34364                    0                    0                    0   \n",
       "\n",
       "       timezone_UTC\\+10:00  timezone_UTC\\+11:00  timezone_UTC\\-04:00  \\\n",
       "0                        0                    0                    0   \n",
       "1                        0                    0                    0   \n",
       "2                        0                    0                    0   \n",
       "3                        0                    0                    0   \n",
       "4                        0                    0                    0   \n",
       "...                    ...                  ...                  ...   \n",
       "34360                    0                    0                    0   \n",
       "34361                    0                    0                    0   \n",
       "34362                    0                    0                    0   \n",
       "34363                    0                    0                    0   \n",
       "34364                    0                    0                    0   \n",
       "\n",
       "       timezone_UTC\\-05:00  timezone_UTC\\-06:00  timezone_UTC\\-07:00  \\\n",
       "0                        0                    0                    0   \n",
       "1                        1                    0                    0   \n",
       "2                        0                    0                    0   \n",
       "3                        0                    0                    0   \n",
       "4                        0                    0                    1   \n",
       "...                    ...                  ...                  ...   \n",
       "34360                    0                    0                    1   \n",
       "34361                    0                    0                    0   \n",
       "34362                    0                    0                    0   \n",
       "34363                    0                    0                    0   \n",
       "34364                    0                    0                    0   \n",
       "\n",
       "       timezone_UTC\\-08:00  \n",
       "0                        0  \n",
       "1                        0  \n",
       "2                        0  \n",
       "3                        0  \n",
       "4                        0  \n",
       "...                    ...  \n",
       "34360                    0  \n",
       "34361                    0  \n",
       "34362                    0  \n",
       "34363                    0  \n",
       "34364                    0  \n",
       "\n",
       "[34365 rows x 1149 columns]"
      ]
     },
     "execution_count": 10,
     "metadata": {},
     "output_type": "execute_result"
    }
   ],
   "source": [
    "onehot(df_train)\n",
    "onehot(df_test)"
   ]
  },
  {
   "cell_type": "code",
   "execution_count": 11,
   "metadata": {},
   "outputs": [
    {
     "data": {
      "text/plain": [
       "date                0\n",
       "ccs                 0\n",
       "bcced               0\n",
       "images              0\n",
       "urls                0\n",
       "salutations         0\n",
       "designation         0\n",
       "chars_in_subject    0\n",
       "chars_in_body       0\n",
       "year                0\n",
       "month               0\n",
       "day                 0\n",
       "hour                0\n",
       "minute              0\n",
       "second              0\n",
       "weekday             0\n",
       "dtype: int64"
      ]
     },
     "execution_count": 11,
     "metadata": {},
     "output_type": "execute_result"
    }
   ],
   "source": [
    "df_test.isnull().sum()"
   ]
  },
  {
   "cell_type": "code",
   "execution_count": 12,
   "metadata": {},
   "outputs": [
    {
     "data": {
      "text/plain": [
       "date                0\n",
       "ccs                 0\n",
       "bcced               0\n",
       "images              0\n",
       "urls                0\n",
       "salutations         0\n",
       "designation         0\n",
       "chars_in_subject    0\n",
       "chars_in_body       0\n",
       "label               0\n",
       "year                0\n",
       "month               0\n",
       "day                 0\n",
       "hour                0\n",
       "minute              0\n",
       "second              0\n",
       "weekday             0\n",
       "dtype: int64"
      ]
     },
     "execution_count": 12,
     "metadata": {},
     "output_type": "execute_result"
    }
   ],
   "source": [
    "df_train.isnull().sum()"
   ]
  },
  {
   "cell_type": "code",
   "execution_count": 52,
   "metadata": {},
   "outputs": [],
   "source": [
    "df_train['chars_in_subject'] = df_train['chars_in_subject'].fillna(0)\n",
    "df_test['chars_in_subject'] = df_test['chars_in_subject'].fillna(0)"
   ]
  },
  {
   "cell_type": "code",
   "execution_count": 13,
   "metadata": {},
   "outputs": [],
   "source": [
    "y_train = df_train['label']\n",
    "df_train.drop('label', axis = 1, inplace = True)"
   ]
  },
  {
   "cell_type": "code",
   "execution_count": 17,
   "metadata": {},
   "outputs": [],
   "source": [
    "#col_drop=['timezone']\n",
    "#X_train_ao = train_df_ao.drop(col_drop, axis=1).copy()\n",
    "#X_test_ao = test_x_ao.drop(col_drop, axis=1).copy()\n",
    "#y_train = train_df.label\n",
    "\n",
    "#train_x = train_df[['date', 'org', 'tld', 'ccs', 'bcced', 'mail_type', 'images', 'urls',\n",
    "       #'salutations', 'designation', 'chars_in_subject', 'chars_in_body',]]\n",
    "#train_y = train_df[['label']]\n",
    "\n",
    "#Dimensionality Reduction\n",
    "from sklearn.decomposition import PCA\n",
    "import matplotlib.pyplot as plt\n",
    "from mpl_toolkits.mplot3d import Axes3D\n",
    "from matplotlib import pyplot\n",
    "%matplotlib inline  \n",
    "\n",
    "pca = PCA(n_components=15)\n",
    "pca.fit(df_train) \n",
    "X_pca = pca.transform(df_train)\n",
    "X_pca_test = pca.transform(df_test)"
   ]
  },
  {
   "cell_type": "code",
   "execution_count": 18,
   "metadata": {},
   "outputs": [
    {
     "data": {
      "text/plain": [
       "<mpl_toolkits.mplot3d.art3d.Path3DCollection at 0x298d1dcac10>"
      ]
     },
     "execution_count": 18,
     "metadata": {},
     "output_type": "execute_result"
    },
    {
     "data": {
      "image/png": "[encoded data removed]",
      "text/plain": [
       "<Figure size 432x288 with 1 Axes>"
      ]
     },
     "metadata": {
      "needs_background": "light"
     },
     "output_type": "display_data"
    }
   ],
   "source": [
    "#Filter out outliners\n",
    "x1 = X_pca[:, 0]\n",
    "x2 = X_pca[:, 1]\n",
    "x3 = X_pca[:, 2]\n",
    "\n",
    "fig = pyplot.figure()\n",
    "ax = Axes3D(fig)\n",
    "ax.scatter(x1, x2, x3, c=y_train, alpha=0.8)"
   ]
  },
  {
   "cell_type": "code",
   "execution_count": 19,
   "metadata": {},
   "outputs": [
    {
     "name": "stdout",
     "output_type": "stream",
     "text": [
      "{'fit_time': array([53.79189706, 52.22890186, 51.63610506, 51.34840059, 52.85443664]), 'score_time': array([1.14265895, 1.06699467, 1.07016134, 1.0412817 , 1.06686878]), 'test_score': array([0.26434087, 0.26986654, 0.27496751, 0.27628512, 0.27764214])}\n"
     ]
    }
   ],
   "source": [
    "#Random Forest Cross Validation\n",
    "\n",
    "from sklearn.model_selection import cross_validate\n",
    "from sklearn.ensemble import RandomForestClassifier\n",
    "\n",
    "model = RandomForestClassifier(n_estimators = 300)\n",
    "\n",
    "print(cross_validate(model, X_pca, y_train, cv=5, scoring='f1_macro'))"
   ]
  },
  {
   "cell_type": "code",
   "execution_count": 20,
   "metadata": {},
   "outputs": [
    {
     "data": {
      "text/plain": [
       "RandomForestClassifier(n_estimators=300)"
      ]
     },
     "execution_count": 20,
     "metadata": {},
     "output_type": "execute_result"
    }
   ],
   "source": [
    "#Model Training\n",
    "model.fit(X_pca, y_train)"
   ]
  },
  {
   "cell_type": "code",
   "execution_count": 21,
   "metadata": {},
   "outputs": [],
   "source": [
    "#Generate our predictions\n",
    "y_test = model.predict(X_pca_test).astype(int)\n",
    "res = pd.DataFrame({'ID': np.arange(len(y_test)),\n",
    "                    'label': y_test})\n",
    "res.to_csv('submission2_VS_20.11.2021.csv', index=False)"
   ]
  },
  {
   "cell_type": "markdown",
   "metadata": {},
   "source": [
    "## Random Forest Classifier (without PCA)"
   ]
  },
  {
   "cell_type": "code",
   "execution_count": 2,
   "metadata": {},
   "outputs": [],
   "source": [
    "import pandas as pd\n",
    "import numpy as np\n",
    "import dateparser\n",
    "import matplotlib.pyplot as plt\n",
    "from sklearn.preprocessing import MultiLabelBinarizer\n",
    "%matplotlib inline"
   ]
  },
  {
   "cell_type": "code",
   "execution_count": 3,
   "metadata": {},
   "outputs": [],
   "source": [
    "#Read train_clean.csv and test_clean.csv\n",
    "df_train = pd.read_csv('train_clean.csv', index_col = 0)\n",
    "df_test = pd.read_csv('test_clean.csv', index_col = 0)"
   ]
  },
  {
   "cell_type": "code",
   "execution_count": 4,
   "metadata": {},
   "outputs": [],
   "source": [
    "df_train['chars_in_subject'] = df_train['chars_in_subject'].fillna(0)\n",
    "df_test['chars_in_subject'] = df_test['chars_in_subject'].fillna(0)"
   ]
  },
  {
   "cell_type": "code",
   "execution_count": 5,
   "metadata": {},
   "outputs": [],
   "source": [
    "#Concatenate data together for feature engineering\n",
    "n = len(df_train)\n",
    "temp2 = pd.concat([df_train, df_test], axis=0, sort=False).drop(['label'], axis=1)\n",
    "temp = temp2\n",
    "\n",
    "#Seperate the 'mail_type' column\n",
    "temp['mail_type'] = temp['mail_type'].str.strip()\n",
    "temp['mail_type_1'] = temp['mail_type'].str.split('/',expand=True)[0]\n",
    "temp['mail_type_2'] = temp['mail_type'].str.split('/',expand=True)[1]\n",
    "temp = temp.drop('mail_type', axis=1)\n",
    "\n",
    "#Transform the 'org' and 'tld' columns\n",
    "temp['org_tld'] = temp['tld'] + '.' + temp['org']\n",
    "temp['org_tld'] = temp['org_tld'].str.strip()\n",
    "temp['org_tld'] = temp['org_tld'].str.lower()\n",
    "temp['org_tld'] = temp['org_tld'].str.split('.')\n",
    "temp = temp.drop(['org', 'tld'], axis =1)\n",
    "temp['org_tld'] = temp['org_tld'].fillna('N')\n",
    "\n",
    "mlb = MultiLabelBinarizer()\n",
    "res = pd.DataFrame(mlb.fit_transform(temp['org_tld']),\n",
    "                   columns=mlb.classes_,\n",
    "                   index=temp.index)\n",
    "\n",
    "temp = pd.concat([temp, res], axis=1)\n",
    "temp = temp.drop('org_tld', axis=1)\n",
    "\n",
    "#Add numerical labels\n",
    "catogorical = ['mail_type_1', 'mail_type_2', 'timezone']\n",
    "temp[catogorical] = temp[catogorical].apply(lambda x: pd.factorize(x)[0])\n",
    "\n",
    "#Add 'org_freq' and 'tld_freq' columns\n",
    "for col in catogorical:\n",
    "    encoding = temp.groupby(col).size()/len(temp)\n",
    "    temp[col + '_freq'] = temp[col].map(encoding)\n",
    "\n",
    "#Add the frequency of the 'tld' and 'org'\n",
    "freq = temp[temp.columns[19:-3]].sum(axis=1)\n",
    "temp = pd.concat([temp,freq], axis=1)\n",
    "\n",
    "#Drop apparently non-important features, and date\n",
    "drop_c = ['bcced', 'designation', 'salutations', 'date', 'mail_type_1_freq', 'mail_type_1']\n",
    "temp = temp.drop(drop_c, axis=1)\n",
    "\n",
    "#Drop features that have value 1 for only one row\n",
    "t1 = temp[:n].sum()\n",
    "t2 = temp[n:].sum()\n",
    "temp = temp.drop(set(t2[t2==0].index) | set(t1[t1==0].index), axis=1)\n",
    "\n",
    "#Drop duplicate columns in the training set\n",
    "col_non_dup = (temp[:n].T.drop_duplicates().T).columns\n",
    "temp = temp[col_non_dup]"
   ]
  },
  {
   "cell_type": "code",
   "execution_count": 6,
   "metadata": {},
   "outputs": [],
   "source": [
    "#Split the data to X, y and X_test\n",
    "\n",
    "X = temp[:n]\n",
    "X_test = temp[n:]\n",
    "y = df_train['label']"
   ]
  },
  {
   "cell_type": "code",
   "execution_count": 7,
   "metadata": {},
   "outputs": [
    {
     "name": "stdout",
     "output_type": "stream",
     "text": [
      "{'fit_time': array([138.10836077, 139.68251324, 138.26775575, 138.65143895,\n",
      "       138.57960939]), 'score_time': array([1.31974244, 1.17857695, 1.17897248, 1.18048716, 1.21642399]), 'test_score': array([0.38062777, 0.40827248, 0.40731703, 0.39852771, 0.38867551]), 'train_score': array([0.76184302, 0.76631504, 0.76010399, 0.76017511, 0.76715849])}\n"
     ]
    }
   ],
   "source": [
    "#Cross Validation\n",
    "\n",
    "from sklearn.model_selection import cross_validate\n",
    "from sklearn.ensemble import RandomForestClassifier\n",
    "\n",
    "#250 & 200 before droppinp duplicate columns\n",
    "#250 & 175 after droppinp duplicate columns\n",
    "model = RandomForestClassifier(n_estimators = 250, class_weight='balanced', max_features = 175)\n",
    "\n",
    "print(cross_validate(model, X, y, cv=5, scoring='f1_macro', return_train_score=True))"
   ]
  },
  {
   "cell_type": "code",
   "execution_count": null,
   "metadata": {},
   "outputs": [],
   "source": [
    "#Model Training\n",
    "model.fit(X, y)"
   ]
  },
  {
   "cell_type": "code",
   "execution_count": null,
   "metadata": {},
   "outputs": [],
   "source": [
    "#Generate our predictions\n",
    "y_test = model.predict(X_test).astype(int)\n",
    "res = pd.DataFrame({'ID': np.arange(len(y_test)),\n",
    "                    'label': y_test})\n",
    "res.to_csv('submission.csv', index=False)"
   ]
  },
  {
   "cell_type": "markdown",
   "metadata": {},
   "source": [
    "## Gradient Boosting"
   ]
  },
  {
   "cell_type": "code",
   "execution_count": 1,
   "metadata": {},
   "outputs": [],
   "source": [
    "import pandas as pd\n",
    "import numpy as np\n",
    "\n",
    "from sklearn.preprocessing import OneHotEncoder\n",
    "from sklearn.metrics import accuracy_score\n",
    "from sklearn.model_selection import train_test_split\n",
    "from sklearn.tree import DecisionTreeClassifier, export_graphviz\n",
    "from sklearn.decomposition import PCA\n",
    "from sklearn.preprocessing import StandardScaler\n",
    "from xgboost import XGBClassifier"
   ]
  },
  {
   "cell_type": "code",
   "execution_count": 2,
   "metadata": {},
   "outputs": [],
   "source": [
    "#read the csv file\n",
    "train_df = pd.read_csv('train_clean.csv', index_col=0)\n",
    "test_df = pd.read_csv('test_clean.csv', index_col=0)"
   ]
  },
  {
   "cell_type": "code",
   "execution_count": 3,
   "metadata": {},
   "outputs": [],
   "source": [
    "x=train_df.drop(labels=['label','date'],axis=1)\n",
    "y=train_df['label']\n",
    "final_x=test_df.drop(labels=['date'],axis=1)"
   ]
  },
  {
   "cell_type": "code",
   "execution_count": 4,
   "metadata": {},
   "outputs": [],
   "source": [
    "#one hot encoding towards org, tld, mail_type and timezone.And make replacement\n",
    "x_org=x[['org']]\n",
    "final_x_org=final_x[['org']]\n",
    "feat_enc = OneHotEncoder()\n",
    "feat_enc.fit(np.vstack([x_org, final_x_org]))\n",
    "x_org_f = feat_enc.transform(x_org)\n",
    "final_x_org_f = feat_enc.transform(final_x_org)\n",
    "\n",
    "x_org_f_p=pd.DataFrame(x_org_f.toarray())\n",
    "final_x_org_f_p=pd.DataFrame(final_x_org_f.toarray())\n"
   ]
  },
  {
   "cell_type": "code",
   "execution_count": 5,
   "metadata": {},
   "outputs": [],
   "source": [
    "x_org_f_p=pd.DataFrame(x_org_f.toarray())\n",
    "final_x_org_f_p=pd.DataFrame(final_x_org_f.toarray())"
   ]
  },
  {
   "cell_type": "code",
   "execution_count": 6,
   "metadata": {},
   "outputs": [],
   "source": [
    "x_tld=x[['tld']]\n",
    "final_x_tld=final_x[['tld']]\n",
    "feat_enc = OneHotEncoder()\n",
    "feat_enc.fit(np.vstack([x_tld, final_x_tld]))\n",
    "x_tld_f = feat_enc.transform(x_tld)\n",
    "final_x_tld_f = feat_enc.transform(final_x_tld)\n",
    "x_tld_f_p=pd.DataFrame(x_tld_f.toarray())\n",
    "final_x_tld_f_p=pd.DataFrame(final_x_tld_f.toarray())"
   ]
  },
  {
   "cell_type": "code",
   "execution_count": 7,
   "metadata": {},
   "outputs": [],
   "source": [
    "x_mail_type=x[['mail_type']]\n",
    "final_x_mail_type=final_x[['mail_type']]\n",
    "feat_enc = OneHotEncoder()\n",
    "feat_enc.fit(np.vstack([x_mail_type, final_x_mail_type]))\n",
    "x_mail_type_f = feat_enc.transform(x_mail_type)\n",
    "final_x_mail_type_f = feat_enc.transform(final_x_mail_type)\n",
    "x_mail_type_f_p=pd.DataFrame(x_mail_type_f.toarray())\n",
    "final_x_mail_type_f_p=pd.DataFrame(final_x_mail_type_f.toarray())"
   ]
  },
  {
   "cell_type": "code",
   "execution_count": 8,
   "metadata": {},
   "outputs": [],
   "source": [
    "x=x.drop(labels=['org'],axis=1)\n",
    "x=pd.concat([x_org_f_p,x],axis=1)\n",
    "final_x=final_x.drop(labels=['org'],axis=1)\n",
    "final_x=pd.concat([final_x_org_f_p,final_x],axis=1)"
   ]
  },
  {
   "cell_type": "code",
   "execution_count": 9,
   "metadata": {},
   "outputs": [],
   "source": [
    "x=x.drop(labels=['tld'],axis=1)\n",
    "x=pd.concat([x_tld_f_p,x],axis=1)\n",
    "final_x=final_x.drop(labels=['tld'],axis=1)\n",
    "final_x=pd.concat([final_x_tld_f_p,final_x],axis=1)\n",
    "\n",
    "x=x.drop(labels=['mail_type'],axis=1)\n",
    "x=pd.concat([x_mail_type_f_p,x],axis=1)\n",
    "final_x=final_x.drop(labels=['mail_type'],axis=1)\n",
    "final_x=pd.concat([final_x_mail_type_f_p,final_x],axis=1)"
   ]
  },
  {
   "cell_type": "code",
   "execution_count": 10,
   "metadata": {},
   "outputs": [],
   "source": [
    "x_timezone=x[['timezone']]\n",
    "final_x_timezone=final_x[['timezone']]\n",
    "feat_enc = OneHotEncoder()\n",
    "feat_enc.fit(np.vstack([x_timezone, final_x_timezone]))\n",
    "x_timezone_f = feat_enc.transform(x_timezone)\n",
    "final_x_timezone_f = feat_enc.transform(final_x_timezone)\n",
    "x_timezone_f_p=pd.DataFrame(x_timezone_f.toarray())\n",
    "final_x_timezone_f_p=pd.DataFrame(final_x_timezone_f.toarray())\n",
    "\n",
    "x=x.drop(labels=['timezone'],axis=1)\n",
    "x=pd.concat([x_timezone_f_p,x],axis=1)\n",
    "final_x=final_x.drop(labels=['timezone'],axis=1)\n",
    "final_x=pd.concat([final_x_timezone_f_p,final_x],axis=1)"
   ]
  },
  {
   "cell_type": "code",
   "execution_count": 11,
   "metadata": {},
   "outputs": [],
   "source": [
    "#standarization\n",
    "x_total=pd.concat([x,final_x])\n",
    "transformer = StandardScaler().fit(x_total)\n",
    "x_s = transformer.transform(x)\n",
    "final_x_s = transformer.transform(final_x)\n",
    "\n",
    "x_s_p=pd.DataFrame(x_s)\n",
    "final_x_s_p=pd.DataFrame(final_x_s)\n"
   ]
  },
  {
   "cell_type": "code",
   "execution_count": 12,
   "metadata": {},
   "outputs": [],
   "source": [
    "#fill the NaN value to -1\n",
    "x_s_p=x_s_p.fillna(-1)\n",
    "final_x_s_p=final_x_s_p.fillna(-1)"
   ]
  },
  {
   "cell_type": "code",
   "execution_count": 13,
   "metadata": {},
   "outputs": [
    {
     "name": "stdout",
     "output_type": "stream",
     "text": [
      "64140 16036\n"
     ]
    }
   ],
   "source": [
    "#divide the train data in order to test the accuracy before submitting\n",
    "x_train, x_test, y_train, y_test = train_test_split(x_s_p, y, test_size=0.2)\n",
    "print (len(x_train), len(x_test))"
   ]
  },
  {
   "cell_type": "code",
   "execution_count": null,
   "metadata": {},
   "outputs": [],
   "source": [
    "#Cross Validation\n",
    "\n",
    "from sklearn.model_selection import cross_validate\n",
    "from sklearn.ensemble import GradientBoostingClassifier\n",
    "\n",
    "model = GradientBoostingClassifier(n_estimators = 300)\n",
    "\n",
    "print(cross_validate(model, x_train, y_train, cv=5, scoring='f1_macro'))"
   ]
  },
  {
   "cell_type": "code",
   "execution_count": 15,
   "metadata": {},
   "outputs": [],
   "source": [
    "\n",
    "from sklearn.model_selection import cross_validate\n",
    "from sklearn.ensemble import GradientBoostingClassifier"
   ]
  },
  {
   "cell_type": "code",
   "execution_count": 16,
   "metadata": {},
   "outputs": [
    {
     "data": {
      "text/plain": [
       "GradientBoostingClassifier(n_estimators=300)"
      ]
     },
     "execution_count": 16,
     "metadata": {},
     "output_type": "execute_result"
    }
   ],
   "source": [
    "#Model Training\n",
    "model = GradientBoostingClassifier(n_estimators = 300)\n",
    "model.fit(x_train, y_train)"
   ]
  },
  {
   "cell_type": "code",
   "execution_count": 17,
   "metadata": {},
   "outputs": [],
   "source": [
    "#make prediction\n",
    "predicted= model.predict(x_test)"
   ]
  },
  {
   "cell_type": "code",
   "execution_count": 18,
   "metadata": {},
   "outputs": [
    {
     "name": "stdout",
     "output_type": "stream",
     "text": [
      "0.5821900723372412\n"
     ]
    }
   ],
   "source": [
    "#calculate the F1 score. BTW, F1 score has several kinds of average and I guess micro and weighted is closer to the Kaggle system\n",
    "from sklearn.metrics import f1_score\n",
    "true = f1_score(predicted, y_test, average='micro')\n",
    "print(true)"
   ]
  },
  {
   "cell_type": "code",
   "execution_count": null,
   "metadata": {},
   "outputs": [],
   "source": [
    "#make prediction\n",
    "predict=model.predict(final_x_s_p)"
   ]
  },
  {
   "cell_type": "code",
   "execution_count": null,
   "metadata": {},
   "outputs": [],
   "source": [
    "#save the prediction into csv file\n",
    "pred_df = pd.DataFrame(predict, columns=['label'])\n",
    "pred_df.to_csv(\"GradientBoosting2_submission.csv\", index=True, index_label='Id')"
   ]
  },
  {
   "cell_type": "markdown",
   "metadata": {},
   "source": [
    "## XGBoost"
   ]
  },
  {
   "cell_type": "code",
   "execution_count": 19,
   "metadata": {},
   "outputs": [],
   "source": [
    "import pandas as pd\n",
    "import numpy as np\n",
    "\n",
    "from sklearn.preprocessing import OneHotEncoder\n",
    "from sklearn.metrics import accuracy_score\n",
    "from sklearn.model_selection import train_test_split\n",
    "from sklearn.tree import DecisionTreeClassifier, export_graphviz\n",
    "from sklearn.decomposition import PCA\n",
    "from sklearn.preprocessing import StandardScaler\n",
    "from xgboost import XGBClassifier"
   ]
  },
  {
   "cell_type": "code",
   "execution_count": 20,
   "metadata": {},
   "outputs": [],
   "source": [
    "#read the csv file\n",
    "train_df = pd.read_csv('train_clean.csv', index_col=0)\n",
    "test_df = pd.read_csv('test_clean.csv', index_col=0)"
   ]
  },
  {
   "cell_type": "code",
   "execution_count": 21,
   "metadata": {},
   "outputs": [],
   "source": [
    "x=train_df.drop(labels=['label','date'],axis=1)\n",
    "y=train_df['label']\n",
    "final_x=test_df.drop(labels=['date'],axis=1)"
   ]
  },
  {
   "cell_type": "code",
   "execution_count": 22,
   "metadata": {},
   "outputs": [],
   "source": [
    "#one hot encoding towards org, tld, mail_type and timezone.And make replacement\n",
    "x_org=x[['org']]\n",
    "final_x_org=final_x[['org']]\n",
    "feat_enc = OneHotEncoder()\n",
    "feat_enc.fit(np.vstack([x_org, final_x_org]))\n",
    "x_org_f = feat_enc.transform(x_org)\n",
    "final_x_org_f = feat_enc.transform(final_x_org)\n",
    "\n",
    "x_org_f_p=pd.DataFrame(x_org_f.toarray())\n",
    "final_x_org_f_p=pd.DataFrame(final_x_org_f.toarray())"
   ]
  },
  {
   "cell_type": "code",
   "execution_count": 23,
   "metadata": {},
   "outputs": [],
   "source": [
    "x_org_f_p=pd.DataFrame(x_org_f.toarray())\n",
    "final_x_org_f_p=pd.DataFrame(final_x_org_f.toarray())"
   ]
  },
  {
   "cell_type": "code",
   "execution_count": 24,
   "metadata": {},
   "outputs": [],
   "source": [
    "x_tld=x[['tld']]\n",
    "final_x_tld=final_x[['tld']]\n",
    "feat_enc = OneHotEncoder()\n",
    "feat_enc.fit(np.vstack([x_tld, final_x_tld]))\n",
    "x_tld_f = feat_enc.transform(x_tld)\n",
    "final_x_tld_f = feat_enc.transform(final_x_tld)\n",
    "x_tld_f_p=pd.DataFrame(x_tld_f.toarray())\n",
    "final_x_tld_f_p=pd.DataFrame(final_x_tld_f.toarray())"
   ]
  },
  {
   "cell_type": "code",
   "execution_count": 25,
   "metadata": {},
   "outputs": [],
   "source": [
    "x_mail_type=x[['mail_type']]\n",
    "final_x_mail_type=final_x[['mail_type']]\n",
    "feat_enc = OneHotEncoder()\n",
    "feat_enc.fit(np.vstack([x_mail_type, final_x_mail_type]))\n",
    "x_mail_type_f = feat_enc.transform(x_mail_type)\n",
    "final_x_mail_type_f = feat_enc.transform(final_x_mail_type)\n",
    "x_mail_type_f_p=pd.DataFrame(x_mail_type_f.toarray())\n",
    "final_x_mail_type_f_p=pd.DataFrame(final_x_mail_type_f.toarray())"
   ]
  },
  {
   "cell_type": "code",
   "execution_count": 26,
   "metadata": {},
   "outputs": [],
   "source": [
    "x=x.drop(labels=['org'],axis=1)\n",
    "x=pd.concat([x_org_f_p,x],axis=1)\n",
    "final_x=final_x.drop(labels=['org'],axis=1)\n",
    "final_x=pd.concat([final_x_org_f_p,final_x],axis=1)"
   ]
  },
  {
   "cell_type": "code",
   "execution_count": 27,
   "metadata": {},
   "outputs": [],
   "source": [
    "x=x.drop(labels=['tld'],axis=1)\n",
    "x=pd.concat([x_tld_f_p,x],axis=1)\n",
    "final_x=final_x.drop(labels=['tld'],axis=1)\n",
    "final_x=pd.concat([final_x_tld_f_p,final_x],axis=1)\n",
    "\n",
    "x=x.drop(labels=['mail_type'],axis=1)\n",
    "x=pd.concat([x_mail_type_f_p,x],axis=1)\n",
    "final_x=final_x.drop(labels=['mail_type'],axis=1)\n",
    "final_x=pd.concat([final_x_mail_type_f_p,final_x],axis=1)"
   ]
  },
  {
   "cell_type": "code",
   "execution_count": 28,
   "metadata": {},
   "outputs": [],
   "source": [
    "x_timezone=x[['timezone']]\n",
    "final_x_timezone=final_x[['timezone']]\n",
    "feat_enc = OneHotEncoder()\n",
    "feat_enc.fit(np.vstack([x_timezone, final_x_timezone]))\n",
    "x_timezone_f = feat_enc.transform(x_timezone)\n",
    "final_x_timezone_f = feat_enc.transform(final_x_timezone)\n",
    "x_timezone_f_p=pd.DataFrame(x_timezone_f.toarray())\n",
    "final_x_timezone_f_p=pd.DataFrame(final_x_timezone_f.toarray())\n",
    "\n",
    "x=x.drop(labels=['timezone'],axis=1)\n",
    "x=pd.concat([x_timezone_f_p,x],axis=1)\n",
    "final_x=final_x.drop(labels=['timezone'],axis=1)\n",
    "final_x=pd.concat([final_x_timezone_f_p,final_x],axis=1)"
   ]
  },
  {
   "cell_type": "code",
   "execution_count": 29,
   "metadata": {},
   "outputs": [],
   "source": [
    "#standarization\n",
    "x_total=pd.concat([x,final_x])\n",
    "transformer = StandardScaler().fit(x_total)\n",
    "x_s = transformer.transform(x)\n",
    "final_x_s = transformer.transform(final_x)\n",
    "\n",
    "x_s_p=pd.DataFrame(x_s)\n",
    "final_x_s_p=pd.DataFrame(final_x_s)"
   ]
  },
  {
   "cell_type": "code",
   "execution_count": 30,
   "metadata": {},
   "outputs": [],
   "source": [
    "#fill the NaN value to -1\n",
    "x_s_p=x_s_p.fillna(-1)\n",
    "final_x_s_p=final_x_s_p.fillna(-1)"
   ]
  },
  {
   "cell_type": "code",
   "execution_count": 31,
   "metadata": {},
   "outputs": [
    {
     "name": "stdout",
     "output_type": "stream",
     "text": [
      "64140 16036\n"
     ]
    }
   ],
   "source": [
    "#divide the train data in order to test the accuracy before submitting\n",
    "x_train, x_test, y_train, y_test = train_test_split(x_s_p, y, test_size=0.2)\n",
    "print (len(x_train), len(x_test))"
   ]
  },
  {
   "cell_type": "code",
   "execution_count": 32,
   "metadata": {},
   "outputs": [
    {
     "name": "stderr",
     "output_type": "stream",
     "text": [
      "D:\\Anacoda\\lib\\site-packages\\xgboost\\sklearn.py:1224: UserWarning: The use of label encoder in XGBClassifier is deprecated and will be removed in a future release. To remove this warning, do the following: 1) Pass option use_label_encoder=False when constructing XGBClassifier object; and 2) Encode your labels (y) as integers starting with 0, i.e. 0, 1, 2, ..., [num_class - 1].\n",
      "  warnings.warn(label_encoder_deprecation_msg, UserWarning)\n"
     ]
    },
    {
     "name": "stdout",
     "output_type": "stream",
     "text": [
      "[17:45:42] WARNING: ..\\src\\learner.cc:1115: Starting in XGBoost 1.3.0, the default evaluation metric used with the objective 'multi:softprob' was changed from 'merror' to 'mlogloss'. Explicitly set eval_metric if you'd like to restore the old behavior.\n"
     ]
    },
    {
     "data": {
      "text/plain": [
       "XGBClassifier(base_score=0.5, booster='gbtree', colsample_bylevel=1,\n",
       "              colsample_bynode=1, colsample_bytree=1, enable_categorical=False,\n",
       "              gamma=0, gpu_id=-1, importance_type=None,\n",
       "              interaction_constraints='', learning_rate=0.300000012,\n",
       "              max_delta_step=0, max_depth=6, min_child_weight=1, missing=nan,\n",
       "              monotone_constraints='()', n_estimators=100, n_jobs=16,\n",
       "              num_parallel_tree=1, objective='multi:softprob', predictor='auto',\n",
       "              random_state=0, reg_alpha=0, reg_lambda=1, scale_pos_weight=None,\n",
       "              subsample=1, tree_method='exact', validate_parameters=1,\n",
       "              verbosity=None)"
      ]
     },
     "execution_count": 32,
     "metadata": {},
     "output_type": "execute_result"
    }
   ],
   "source": [
    "#stary to training the XGBoost model\n",
    "model = XGBClassifier()\n",
    "model.fit(x_train, y_train)"
   ]
  },
  {
   "cell_type": "code",
   "execution_count": 33,
   "metadata": {},
   "outputs": [],
   "source": [
    "#make prediction\n",
    "predicted= model.predict(x_test)"
   ]
  },
  {
   "cell_type": "code",
   "execution_count": 34,
   "metadata": {},
   "outputs": [
    {
     "name": "stdout",
     "output_type": "stream",
     "text": [
      "0.577700174607134\n"
     ]
    }
   ],
   "source": [
    "#calculate the F1 score. BTW, F1 score has several kinds of average and I guess micro and weighted is closer to the Kaggle system\n",
    "from sklearn.metrics import f1_score\n",
    "true = f1_score(predicted, y_test, average='micro')\n",
    "print(true)"
   ]
  },
  {
   "cell_type": "code",
   "execution_count": null,
   "metadata": {},
   "outputs": [],
   "source": [
    "#make prediction\n",
    "predict=model.predict(final_x_s_p)"
   ]
  },
  {
   "cell_type": "code",
   "execution_count": null,
   "metadata": {},
   "outputs": [],
   "source": [
    "#save the prediction into csv file\n",
    "pred_df = pd.DataFrame(predict, columns=['label'])\n",
    "pred_df.to_csv(\"XGBoost01_submission.csv\", index=True, index_label='Id')"
   ]
  },
  {
   "cell_type": "markdown",
   "metadata": {},
   "source": [
    "## Neural Network"
   ]
  },
  {
   "cell_type": "code",
   "execution_count": 2,
   "metadata": {},
   "outputs": [],
   "source": [
    "import pandas as pd\n",
    "import numpy as np\n",
    "import dateparser\n",
    "import matplotlib.pyplot as plt\n",
    "%matplotlib inline\n",
    "\n",
    "#Help functions for correcting the 'tld' and 'org' columns\n",
    "def get_tld(x):\n",
    "    if type(x) != list:\n",
    "        return np.nan\n",
    "    if x[-1] == 'in' and len(x) == 2 and x[-2] in ['ac', 'co']:\n",
    "        return x[-2] + '.' + 'in'\n",
    "    else:\n",
    "        return x[-1]\n",
    "def get_org(x):\n",
    "    if type(x) != list:\n",
    "        return np.nan\n",
    "    if len(x) == 1:\n",
    "        return np.nan\n",
    "    if x[-1] == 'in' and x[-2] in ['ac', 'co'] and len(x) == 3:\n",
    "        return x[-3]   \n",
    "    if x[-1] == 'in' and x[-2] in ['ac', 'co'] and len(x) == 2:\n",
    "        return np.nan   \n",
    "    return x[-2]"
   ]
  },
  {
   "cell_type": "code",
   "execution_count": 3,
   "metadata": {},
   "outputs": [],
   "source": [
    "#Read train_clean.csv and test_clean.csv\n",
    "df_train = pd.read_csv('train_clean.csv', index_col = 0)\n",
    "df_test = pd.read_csv('test_clean.csv', index_col = 0)"
   ]
  },
  {
   "cell_type": "code",
   "execution_count": 4,
   "metadata": {},
   "outputs": [],
   "source": [
    "#Concatenate data together for feature engineering\n",
    "\n",
    "n = len(df_train)\n",
    "temp = pd.concat([df_train, df_test], axis=0, sort=False).drop(['label'], axis=1)\n",
    "\n",
    "#Correct the 'org' and 'tld' columns and lowercase them\n",
    "split_res = temp['tld'].str.split('.')\n",
    "true_tld = split_res.map(get_tld)\n",
    "true_org = split_res.map(get_org)\n",
    "temp['tld'] = true_tld.fillna(temp['tld']).str.lower()\n",
    "temp['org'] = true_org.fillna(temp['org']).str.lower()\n",
    "\n",
    "#Take the log of 'chars_in_subject', 'chars_in_body' and 'urls' columns\n",
    "log = ['chars_in_subject', 'chars_in_body', 'urls']\n",
    "temp[log] = np.log(temp[log] + 1)\n",
    "\n",
    "#Add 'org_freq' and 'tld_freq' columns\n",
    "for col in ['org', 'tld', 'mail_type', 'timezone']:\n",
    "    encoding = temp.groupby(col).size()/len(temp)\n",
    "    temp[col + '_freq'] = temp[col].map(encoding)\n",
    "\n",
    "#Onehot encode data\n",
    "catogorical = ['org', 'tld', 'mail_type', 'timezone']\n",
    "temp = pd.concat([temp, pd.get_dummies(temp[catogorical], drop_first=True)], axis=1)\n",
    "temp = temp.drop(catogorical, axis=1)\n",
    "\n",
    "#Drop apparently non-important features, and date\n",
    "temp = temp.drop(['bcced', 'designation', 'salutations', 'date'], axis=1)"
   ]
  },
  {
   "cell_type": "code",
   "execution_count": 5,
   "metadata": {},
   "outputs": [],
   "source": [
    "#Standarize data\n",
    "from sklearn.preprocessing import StandardScaler\n",
    "transformer = StandardScaler().fit(temp)\n",
    "temp = transformer.transform(temp)\n",
    "\n",
    "#Fill nan with -1\n",
    "temp = np.nan_to_num(temp, -1)"
   ]
  },
  {
   "cell_type": "code",
   "execution_count": 6,
   "metadata": {},
   "outputs": [],
   "source": [
    "#Split the data to X, y and X_test\n",
    "X = temp[:n]\n",
    "X_test = temp[n:]\n",
    "y = df_train['label']"
   ]
  },
  {
   "cell_type": "code",
   "execution_count": 7,
   "metadata": {},
   "outputs": [],
   "source": [
    "#Onehot-encode y\n",
    "y = pd.get_dummies(y)"
   ]
  },
  {
   "cell_type": "code",
   "execution_count": 12,
   "metadata": {},
   "outputs": [],
   "source": [
    "#NN\n",
    "from keras.layers import Input, Dense, Dropout\n",
    "from keras.models import Model\n",
    "from keras.callbacks import EarlyStopping\n",
    "\n",
    "n_features = X.shape[1]\n",
    "input_tensor = Input(shape=(n_features,))\n",
    "layer1 = Dense(100, activation='relu')(input_tensor)\n",
    "layer2 = Dense(100, activation='relu')(layer1)\n",
    "layer3 = Dense(100, activation='relu')(layer2)\n",
    "output_tensor = Dense(8, activation='sigmoid')(layer3)\n",
    "model = Model(input_tensor, output_tensor)\n",
    "\n",
    "es = EarlyStopping(monitor='val_loss', mode='min', verbose=1, patience=3)\n",
    "\n",
    "model.compile(optimizer='adam',loss='categorical_crossentropy',metrics=['accuracy'])"
   ]
  },
  {
   "cell_type": "code",
   "execution_count": 13,
   "metadata": {},
   "outputs": [
    {
     "name": "stdout",
     "output_type": "stream",
     "text": [
      "Epoch 1/100\n",
      "4009/4009 [==============================] - 3s 689us/step - loss: 0.8434 - accuracy: 0.5438 - val_loss: 0.7834 - val_accuracy: 0.5668\n",
      "Epoch 2/100\n",
      "4009/4009 [==============================] - 3s 645us/step - loss: 0.7622 - accuracy: 0.5853 - val_loss: 0.7560 - val_accuracy: 0.5823\n",
      "Epoch 3/100\n",
      "4009/4009 [==============================] - 3s 644us/step - loss: 0.7400 - accuracy: 0.5909 - val_loss: 0.7548 - val_accuracy: 0.5824\n",
      "Epoch 4/100\n",
      "4009/4009 [==============================] - 3s 649us/step - loss: 0.7269 - accuracy: 0.5987 - val_loss: 0.7380 - val_accuracy: 0.5930\n",
      "Epoch 5/100\n",
      "4009/4009 [==============================] - 3s 657us/step - loss: 0.7185 - accuracy: 0.5997 - val_loss: 0.7381 - val_accuracy: 0.5943\n",
      "Epoch 6/100\n",
      "4009/4009 [==============================] - 3s 650us/step - loss: 0.7123 - accuracy: 0.6023 - val_loss: 0.7312 - val_accuracy: 0.5970\n",
      "Epoch 7/100\n",
      "4009/4009 [==============================] - 3s 659us/step - loss: 0.7048 - accuracy: 0.6035 - val_loss: 0.7329 - val_accuracy: 0.5920\n",
      "Epoch 8/100\n",
      "4009/4009 [==============================] - 3s 654us/step - loss: 0.6999 - accuracy: 0.6057 - val_loss: 0.7356 - val_accuracy: 0.5925\n",
      "Epoch 9/100\n",
      "4009/4009 [==============================] - 3s 662us/step - loss: 0.6977 - accuracy: 0.6102 - val_loss: 0.7260 - val_accuracy: 0.5968\n",
      "Epoch 10/100\n",
      "4009/4009 [==============================] - 3s 650us/step - loss: 0.6909 - accuracy: 0.6101 - val_loss: 0.7221 - val_accuracy: 0.5978\n",
      "Epoch 11/100\n",
      "4009/4009 [==============================] - 3s 653us/step - loss: 0.6899 - accuracy: 0.6117 - val_loss: 0.7259 - val_accuracy: 0.5970\n",
      "Epoch 12/100\n",
      "4009/4009 [==============================] - 3s 651us/step - loss: 0.6875 - accuracy: 0.6137 - val_loss: 0.7287 - val_accuracy: 0.5983\n",
      "Epoch 13/100\n",
      "4009/4009 [==============================] - 3s 661us/step - loss: 0.6860 - accuracy: 0.6126 - val_loss: 0.7312 - val_accuracy: 0.5963\n",
      "Epoch 00013: early stopping\n"
     ]
    },
    {
     "data": {
      "text/plain": [
       "<tensorflow.python.keras.callbacks.History at 0x2994843b9d0>"
      ]
     },
     "execution_count": 13,
     "metadata": {},
     "output_type": "execute_result"
    }
   ],
   "source": [
    "model.fit(X, y, validation_split=0.2, batch_size=16, epochs=100, callbacks=[es])"
   ]
  },
  {
   "cell_type": "code",
   "execution_count": 14,
   "metadata": {},
   "outputs": [
    {
     "name": "stdout",
     "output_type": "stream",
     "text": [
      "2506/2506 [==============================] - 1s 429us/step - loss: 0.6862 - accuracy: 0.6157\n"
     ]
    },
    {
     "data": {
      "text/plain": [
       "[0.6862453818321228, 0.6156830191612244]"
      ]
     },
     "execution_count": 14,
     "metadata": {},
     "output_type": "execute_result"
    }
   ],
   "source": [
    "model.evaluate(X, y)"
   ]
  },
  {
   "cell_type": "code",
   "execution_count": null,
   "metadata": {},
   "outputs": [],
   "source": [
    "y_test = model.predict(X_test).argmax(axis=1)\n",
    "res = pd.DataFrame({'ID': np.arange(len(y_test)),\n",
    "                    'label': y_test})\n",
    "res.to_csv('submission-NN.csv', index=False)"
   ]
  },
  {
   "cell_type": "markdown",
   "metadata": {},
   "source": [
    "## MLP"
   ]
  },
  {
   "cell_type": "code",
   "execution_count": 1,
   "metadata": {},
   "outputs": [],
   "source": [
    "import pandas as pd\n",
    "import numpy as np\n",
    "from sklearn.preprocessing import OneHotEncoder\n",
    "from sklearn.model_selection import train_test_split\n",
    "from sklearn.preprocessing import StandardScaler\n",
    "from sklearn.metrics import f1_score"
   ]
  },
  {
   "cell_type": "code",
   "execution_count": 2,
   "metadata": {},
   "outputs": [],
   "source": [
    "#read the csv file\n",
    "train_df = pd.read_csv('train_clean.csv', index_col=0)\n",
    "test_df = pd.read_csv('test_clean.csv', index_col=0)\n",
    "x=train_df.drop(labels=['label','date'],axis=1)\n",
    "y=train_df['label']\n",
    "final_x=test_df.drop(labels=['date'],axis=1)"
   ]
  },
  {
   "cell_type": "code",
   "execution_count": 3,
   "metadata": {},
   "outputs": [],
   "source": [
    "#one hot encoding towards org, tld, mail_type and timezone.And make replacement\n",
    "text_names=['org','tld','mail_type','timezone']\n",
    "for i in text_names:\n",
    "    x_i=x[[i]]\n",
    "    final_x_i=final_x[[i]]\n",
    "    feat_enc = OneHotEncoder()\n",
    "    feat_enc.fit(np.vstack([x_i, final_x_i]))\n",
    "    x_i_f = feat_enc.transform(x_i)\n",
    "    final_x_i_f = feat_enc.transform(final_x_i)\n",
    "    x_i_f_p=pd.DataFrame(x_i_f.toarray())\n",
    "    final_x_i_f_p=pd.DataFrame(final_x_i_f.toarray())\n",
    "    x=x.drop(labels=[i],axis=1)\n",
    "    x=pd.concat([x_i_f_p,x],axis=1)\n",
    "    final_x=final_x.drop(labels=[i],axis=1)\n",
    "    final_x=pd.concat([final_x_i_f_p,final_x],axis=1)"
   ]
  },
  {
   "cell_type": "code",
   "execution_count": 4,
   "metadata": {},
   "outputs": [],
   "source": [
    "#fill the NaN value to -1\n",
    "x=x.fillna(-1)\n",
    "final_x=final_x.fillna(-1)"
   ]
  },
  {
   "cell_type": "code",
   "execution_count": 5,
   "metadata": {},
   "outputs": [],
   "source": [
    "#standarization\n",
    "x_total=pd.concat([x,final_x])\n",
    "transformer = StandardScaler().fit(x_total)\n",
    "x_s = transformer.transform(x)\n",
    "final_x_s = transformer.transform(final_x)\n",
    "\n",
    "x_s_p=pd.DataFrame(x_s)\n",
    "final_x_s_p=pd.DataFrame(final_x_s)"
   ]
  },
  {
   "cell_type": "code",
   "execution_count": 6,
   "metadata": {},
   "outputs": [
    {
     "name": "stdout",
     "output_type": "stream",
     "text": [
      "64140 16036\n"
     ]
    }
   ],
   "source": [
    "#divide the train data in order to test the accuracy before submitting\n",
    "x_train, x_test, y_train, y_test = train_test_split(x_s_p, y, test_size=0.2)\n",
    "print (len(x_train), len(x_test))"
   ]
  },
  {
   "cell_type": "code",
   "execution_count": 7,
   "metadata": {},
   "outputs": [],
   "source": [
    "from sklearn.neural_network import MLPClassifier"
   ]
  },
  {
   "cell_type": "code",
   "execution_count": 8,
   "metadata": {},
   "outputs": [
    {
     "name": "stdout",
     "output_type": "stream",
     "text": [
      "F1-score: 0.5916687453230232\n"
     ]
    }
   ],
   "source": [
    "mlp=MLPClassifier(solver='adam',activation='relu',hidden_layer_sizes=[10, 10, 5],random_state=1,alpha=0.1).fit(x_train,y_train)\n",
    "y_pred=mlp.predict(x_test)\n",
    "MLP_f1=f1_score(y_pred, y_test, average='micro')\n",
    "print(\"F1-score:\",MLP_f1)"
   ]
  },
  {
   "cell_type": "markdown",
   "metadata": {},
   "source": [
    "## SVM"
   ]
  },
  {
   "cell_type": "code",
   "execution_count": 9,
   "metadata": {},
   "outputs": [],
   "source": [
    "from sklearn import svm"
   ]
  },
  {
   "cell_type": "code",
   "execution_count": 10,
   "metadata": {},
   "outputs": [
    {
     "name": "stdout",
     "output_type": "stream",
     "text": [
      "F1-score: 0.566225991519082\n"
     ]
    }
   ],
   "source": [
    "SVMmodel = svm.SVC(kernel='rbf', gamma='auto') \n",
    "SVMmodel.fit(x_train, y_train)\n",
    "predicted= SVMmodel.predict(x_test)\n",
    "true = f1_score(predicted, y_test, average='micro')\n",
    "print(\"F1-score:\",true)"
   ]
  },
  {
   "cell_type": "markdown",
   "metadata": {},
   "source": [
    "## Extra Tree"
   ]
  },
  {
   "cell_type": "code",
   "execution_count": 13,
   "metadata": {},
   "outputs": [],
   "source": [
    "from sklearn.ensemble import ExtraTreesClassifier"
   ]
  },
  {
   "cell_type": "code",
   "execution_count": 14,
   "metadata": {},
   "outputs": [
    {
     "name": "stdout",
     "output_type": "stream",
     "text": [
      "F1-score: 0.508543277625343\n"
     ]
    }
   ],
   "source": [
    "clf3 = ExtraTreesClassifier(n_estimators=42,max_depth=15,min_samples_split=2,random_state=0)\n",
    "clf3.fit(x_train,y_train)\n",
    "y_pred=clf3.predict(x_test)\n",
    "ET_f1=f1_score(y_pred, y_test, average='micro')\n",
    "print(\"F1-score:\",ET_f1)"
   ]
  },
  {
   "cell_type": "markdown",
   "metadata": {},
   "source": [
    "## Random Forest"
   ]
  },
  {
   "cell_type": "code",
   "execution_count": 15,
   "metadata": {},
   "outputs": [],
   "source": [
    "from sklearn.ensemble import RandomForestClassifier"
   ]
  },
  {
   "cell_type": "code",
   "execution_count": 16,
   "metadata": {},
   "outputs": [
    {
     "name": "stdout",
     "output_type": "stream",
     "text": [
      "F1-score: 0.5419680718383637\n"
     ]
    }
   ],
   "source": [
    "rfc = RandomForestClassifier(n_estimators=360,max_depth=15,n_jobs=-1,min_samples_leaf=1,min_samples_split=10,random_state=71)\n",
    "rfc.fit(x_train, y_train)\n",
    "y_pred=rfc.predict(x_test)\n",
    "RF_f1=f1_score(y_pred, y_test, average='micro')\n",
    "print(\"F1-score:\",RF_f1)"
   ]
  },
  {
   "cell_type": "markdown",
   "metadata": {},
   "source": [
    "## decision tree"
   ]
  },
  {
   "cell_type": "code",
   "execution_count": 17,
   "metadata": {},
   "outputs": [],
   "source": [
    "from sklearn.tree import DecisionTreeClassifier"
   ]
  },
  {
   "cell_type": "code",
   "execution_count": 18,
   "metadata": {},
   "outputs": [
    {
     "name": "stdout",
     "output_type": "stream",
     "text": [
      "F1-score: 0.567223746570217\n"
     ]
    }
   ],
   "source": [
    "tree = DecisionTreeClassifier(random_state=3, criterion=\"entropy\", max_depth=11)\n",
    "tree.fit(x_train,y_train)\n",
    "y_pred= tree.predict(x_test)\n",
    "DT_f1=f1_score(y_pred, y_test, average='micro')\n",
    "print(\"F1-score:\",DT_f1)"
   ]
  },
  {
   "cell_type": "markdown",
   "metadata": {},
   "source": [
    "## NW"
   ]
  },
  {
   "cell_type": "code",
   "execution_count": 24,
   "metadata": {},
   "outputs": [],
   "source": [
    "import numpy as np\n",
    "import matplotlib.pyplot as plt\n",
    "import pandas as pd\n",
    "from sklearn.neural_network import MLPClassifier\n",
    "import numpy as np\n",
    "import _pickle as cPickle\n",
    "import gzip\n",
    "import matplotlib.pyplot as plt\n",
    "from sklearn.model_selection import train_test_split\n",
    "from sklearn.preprocessing import StandardScaler\n",
    "import numpy.ma as ma"
   ]
  },
  {
   "cell_type": "code",
   "execution_count": 25,
   "metadata": {},
   "outputs": [],
   "source": [
    "dataset = pd.read_csv('train_clean5.csv')\n",
    "dataset2 = pd.read_csv('test_clean5.csv')"
   ]
  },
  {
   "cell_type": "code",
   "execution_count": 26,
   "metadata": {},
   "outputs": [
    {
     "name": "stdout",
     "output_type": "stream",
     "text": [
      "F1-score: 0.467822399600898\n"
     ]
    }
   ],
   "source": [
    "X1 = dataset.iloc[:,2:].values\n",
    "y1 = dataset.iloc[:,0].values\n",
    "X = np.where(np.isnan(X1), ma.array(X1, mask=np.isnan(X1)).mean(axis=0), X1)\n",
    "y = np.where(np.isnan(y1), ma.array(y1, mask=np.isnan(y1)).mean(axis=0), y1)\n",
    "M1 = dataset2.iloc[:,1:].values\n",
    "M = np.where(np.isnan(M1), ma.array(M1, mask=np.isnan(M1)).mean(axis=0), M1)\n",
    "# Splitting the dataset into the Training set and Test set\n",
    "\n",
    "X_training, X_test_data, y_training, y_test_data = train_test_split(X, y, test_size = 0.2, random_state = 0)\n",
    "\n",
    "# Feature Scaling\n",
    "\n",
    "sc_X = StandardScaler()\n",
    "X = sc_X.fit_transform(X)\n",
    "sc_M = StandardScaler()\n",
    "M = sc_M.fit_transform(M)\n",
    "\n",
    "scorelist = []\n",
    "\n",
    "mlp = MLPClassifier(activation='relu', hidden_layer_sizes=(30,30,30,30,30,30),learning_rate_init=0.01 ,learning_rate = 'invscaling', max_iter=1000,random_state=3).fit(X_training,y_training)\n",
    "y_pred= mlp.predict(X_test_data)\n",
    "NW_f1=f1_score(y_pred, y_test_data, average='micro')\n",
    "print(\"F1-score:\",NW_f1)\n",
    "\n",
    "#N = mlp.predict(M)\n",
    "\n",
    "#n1 = pd.DataFrame(N)\n",
    "#n1.to_csv('D:\\\\python\\\\myproject\\\\kaggle\\\\result.csv')\n",
    "#print(mlp.score(X_test_data, y_test_data))\n",
    "#print(np.average(np.array(scorelist)))"
   ]
  },
  {
   "cell_type": "markdown",
   "metadata": {},
   "source": [
    "## XGB"
   ]
  },
  {
   "cell_type": "code",
   "execution_count": 1,
   "metadata": {},
   "outputs": [],
   "source": [
    "import pandas as pd\n",
    "import numpy as np\n",
    "import numpy.ma as ma\n",
    "import dateparser\n",
    "from sklearn.preprocessing import LabelEncoder\n",
    "from sklearn.model_selection import train_test_split\n",
    "from sklearn.ensemble import RandomForestClassifier\n",
    "from sklearn.neural_network import MLPClassifier\n",
    "from sklearn.metrics import accuracy_score\n",
    "from sklearn.metrics import f1_score\n",
    "import xgboost as xgb"
   ]
  },
  {
   "cell_type": "code",
   "execution_count": 2,
   "metadata": {},
   "outputs": [
    {
     "name": "stdout",
     "output_type": "stream",
     "text": [
      "0.44219256672486906\n",
      "0.44219256672486906\n",
      "[10:44:26] WARNING: ..\\src\\learner.cc:576: \n",
      "Parameters: { \"silent\" } might not be used.\n",
      "\n",
      "  This could be a false alarm, with some parameters getting used by language bindings but\n",
      "  then being mistakenly passed down to XGBoost core, or some parameter actually being used\n",
      "  but getting flagged wrongly here. Please open an issue if you find any such cases.\n",
      "\n",
      "\n",
      "[10:44:26] WARNING: ..\\src\\learner.cc:1115: Starting in XGBoost 1.3.0, the default evaluation metric used with the objective 'multi:softmax' was changed from 'merror' to 'mlogloss'. Explicitly set eval_metric if you'd like to restore the old behavior.\n",
      "0.5710900473933649\n",
      "0.5710900473933649\n"
     ]
    }
   ],
   "source": [
    "def main():\n",
    "    # data preprocess\n",
    "    df_train = pd.read_csv('train.csv', index_col=0)\n",
    "    df_test = pd.read_csv('test.csv', index_col=0)\n",
    "\n",
    "\n",
    "    df_train['mail_type'] = df_train['mail_type'].str.lower()\n",
    "    df_test['mail_type'] = df_test['mail_type'].str.lower()\n",
    "\n",
    "    df_train.drop('date', axis=1, inplace=True)\n",
    "    df_test.drop('date', axis=1, inplace=True)\n",
    "\n",
    "    for col in ['mail_type', 'org', 'tld']:\n",
    "        encoder_x = LabelEncoder()\n",
    "        encoder_x.fit(df_train[col])\n",
    "        df_test[col] = df_test[col].map(lambda s: '<unknown>' if s not in encoder_x.classes_ else s)\n",
    "        encoder_x.classes_ = np.append(encoder_x.classes_, '<unknown>')\n",
    "\n",
    "        df_train[col] = encoder_x.transform(df_train[col])\n",
    "        df_test[col] = encoder_x.transform(df_test[col])\n",
    "\n",
    "    # train\n",
    "    X1 = df_train.iloc[:, :11].values\n",
    "    y1 = df_train.iloc[:, 11].values\n",
    "    X = np.where(np.isnan(X1), ma.array(X1, mask=np.isnan(X1)).mean(axis=0), X1)\n",
    "    y = np.where(np.isnan(y1), ma.array(y1, mask=np.isnan(y1)).mean(axis=0), y1)\n",
    "    X_training, X_test_data, y_training, y_test_data = train_test_split(X, y, test_size=0.2, random_state=0)\n",
    "\n",
    "    # mlp\n",
    "    # mlp = MLPClassifier(activation='relu', hidden_layer_sizes=(64, 32, 16))\n",
    "    # mlp.fit(X_training, y_training)\n",
    "    # pred = mlp.predict(X_test_data)\n",
    "    # print(f1_score(y_true=y_test_data, y_pred=pred, average='weighted'))\n",
    "\n",
    "    # random forest\n",
    "    rf = RandomForestClassifier(n_estimators=30)\n",
    "    rf.fit(X_training, y_training)\n",
    "    pred = rf.predict(X_test_data)\n",
    "    print(rf.score(X_test_data, y_test_data))\n",
    "    print(f1_score(y_true=y_test_data, y_pred=pred, average='micro'))\n",
    "\n",
    "    # xgb\n",
    "    params = {\n",
    "        'booster': 'gbtree',\n",
    "        'objective': 'multi:softmax',\n",
    "        'num_class': 8,\n",
    "        'gamma': 0.1,\n",
    "        'max_depth': 8,\n",
    "        'lambda': 2,\n",
    "        'subsample': 0.7,\n",
    "        'colsample_bytree': 0.7,\n",
    "        'min_child_weight': 3,\n",
    "        'silent': 0,\n",
    "        'eta': 0.01,\n",
    "        'seed': 1000,\n",
    "        'nthread': 4,\n",
    "    }\n",
    "    dtrain = xgb.DMatrix(X_training, y_training)\n",
    "    dtest = xgb.DMatrix(X_test_data, y_test_data)\n",
    "    num_rounds = 50\n",
    "    model = xgb.train(params, dtrain, num_rounds)\n",
    "    pred = model.predict(dtest)\n",
    "\n",
    "    print(accuracy_score(y_true=y_test_data, y_pred=pred))\n",
    "    print(f1_score(y_true=y_test_data, y_pred=pred, average='micro'))\n",
    "\n",
    "    # xgb to reasult\n",
    "    #X1 = df_test.iloc[:, :11].values\n",
    "    #X = np.where(np.isnan(X1), ma.array(X1, mask=np.isnan(X1)).mean(axis=0), X1)\n",
    "    #test = xgb.DMatrix(X)\n",
    "    #pred = model.predict(test)\n",
    "    #pred = pred.astype(int)\n",
    "    #pred_dict = {'score': pred}\n",
    "\n",
    "    #result = pd.DataFrame(pred_dict)\n",
    "    #result.to_csv('pred.csv')\n",
    "\n",
    "\n",
    "if __name__ == '__main__':\n",
    "    main()"
   ]
  },
  {
   "cell_type": "code",
   "execution_count": null,
   "metadata": {},
   "outputs": [],
   "source": []
  }
 ],
 "metadata": {
  "kernelspec": {
   "display_name": "Python 3",
   "language": "python",
   "name": "python3"
  },
  "language_info": {
   "codemirror_mode": {
    "name": "ipython",
    "version": 3
   },
   "file_extension": ".py",
   "mimetype": "text/x-python",
   "name": "python",
   "nbconvert_exporter": "python",
   "pygments_lexer": "ipython3",
   "version": "3.8.8"
  }
 },
 "nbformat": 4,
 "nbformat_minor": 2
}
